{
  "cells": [
    {
      "cell_type": "markdown",
      "metadata": {
        "id": "view-in-github",
        "colab_type": "text"
      },
      "source": [
        "<a href=\"https://colab.research.google.com/github/cse-teacher/suggestion-mining/blob/main/suggestion_mining.ipynb\" target=\"_parent\"><img src=\"https://colab.research.google.com/assets/colab-badge.svg\" alt=\"Open In Colab\"/></a>"
      ]
    },
    {
      "cell_type": "markdown",
      "metadata": {
        "id": "AMyi6aqLVl_v"
      },
      "source": [
        "# Suggestion Mining\n",
        "Suggestion mining is the task of extracting suggestions from user reviews\n",
        "\n",
        "Developed: 11 Feb 2024 \\\\\n",
        "Last Update: 11 Feb 2024 \\\\\n",
        "Author: Muharram Mansoorizadeh plus Various AI tools (Google search, chatGPT, Gemini , ...)\n",
        "\n",
        "\n"
      ]
    },
    {
      "cell_type": "markdown",
      "metadata": {
        "id": "G0rqNS_w7Wvo"
      },
      "source": [
        "## Install Required Packagaes"
      ]
    },
    {
      "cell_type": "code",
      "execution_count": null,
      "metadata": {
        "id": "OMhPx71AqsaM",
        "colab": {
          "base_uri": "https://localhost:8080/"
        },
        "outputId": "f78022af-9cca-43d1-8b99-5a2bf26e6ca2"
      },
      "outputs": [
        {
          "output_type": "stream",
          "name": "stderr",
          "text": [
            "'apt-get' is not recognized as an internal or external command,\n",
            "operable program or batch file.\n"
          ]
        },
        {
          "output_type": "stream",
          "name": "stdout",
          "text": [
            "Requirement already satisfied: emoji in c:\\python\\python38\\lib\\site-packages (2.10.1)\n",
            "Requirement already satisfied: cleantext in c:\\python\\python38\\lib\\site-packages (1.1.4)\n",
            "Requirement already satisfied: nltk in c:\\python\\python38\\lib\\site-packages (from cleantext) (3.8.1)\n",
            "Requirement already satisfied: click in c:\\python\\python38\\lib\\site-packages (from nltk->cleantext) (8.1.7)\n",
            "Requirement already satisfied: joblib in c:\\python\\python38\\lib\\site-packages (from nltk->cleantext) (1.3.2)\n",
            "Requirement already satisfied: regex>=2021.8.3 in c:\\python\\python38\\lib\\site-packages (from nltk->cleantext) (2023.12.25)\n",
            "Requirement already satisfied: tqdm in c:\\python\\python38\\lib\\site-packages (from nltk->cleantext) (4.66.2)\n",
            "Requirement already satisfied: colorama in c:\\python\\python38\\lib\\site-packages (from click->nltk->cleantext) (0.4.6)\n",
            "Requirement already satisfied: nltk in c:\\python\\python38\\lib\\site-packages (3.8.1)\n",
            "Requirement already satisfied: click in c:\\python\\python38\\lib\\site-packages (from nltk) (8.1.7)\n",
            "Requirement already satisfied: joblib in c:\\python\\python38\\lib\\site-packages (from nltk) (1.3.2)\n",
            "Requirement already satisfied: regex>=2021.8.3 in c:\\python\\python38\\lib\\site-packages (from nltk) (2023.12.25)\n",
            "Requirement already satisfied: tqdm in c:\\python\\python38\\lib\\site-packages (from nltk) (4.66.2)\n",
            "Requirement already satisfied: colorama in c:\\python\\python38\\lib\\site-packages (from click->nltk) (0.4.6)\n",
            "Requirement already satisfied: pyenchant in c:\\python\\python38\\lib\\site-packages (3.2.2)\n",
            "Requirement already satisfied: scikit-learn in c:\\python\\python38\\lib\\site-packages (1.3.2)\n",
            "Requirement already satisfied: lightgbm in c:\\python\\python38\\lib\\site-packages (4.3.0)\n",
            "Requirement already satisfied: catboost in c:\\python\\python38\\lib\\site-packages (1.2.3)\n",
            "Requirement already satisfied: numpy<2.0,>=1.17.3 in c:\\python\\python38\\lib\\site-packages (from scikit-learn) (1.24.1)\n",
            "Requirement already satisfied: scipy>=1.5.0 in c:\\python\\python38\\lib\\site-packages (from scikit-learn) (1.10.1)\n",
            "Requirement already satisfied: joblib>=1.1.1 in c:\\python\\python38\\lib\\site-packages (from scikit-learn) (1.3.2)\n",
            "Requirement already satisfied: threadpoolctl>=2.0.0 in c:\\python\\python38\\lib\\site-packages (from scikit-learn) (3.3.0)\n",
            "Requirement already satisfied: graphviz in c:\\python\\python38\\lib\\site-packages (from catboost) (0.20.1)\n",
            "Requirement already satisfied: matplotlib in c:\\python\\python38\\lib\\site-packages (from catboost) (3.7.5)\n",
            "Requirement already satisfied: pandas>=0.24 in c:\\python\\python38\\lib\\site-packages (from catboost) (2.0.3)\n",
            "Requirement already satisfied: plotly in c:\\python\\python38\\lib\\site-packages (from catboost) (5.19.0)\n",
            "Requirement already satisfied: six in c:\\python\\python38\\lib\\site-packages (from catboost) (1.16.0)\n",
            "Requirement already satisfied: python-dateutil>=2.8.2 in c:\\python\\python38\\lib\\site-packages (from pandas>=0.24->catboost) (2.9.0.post0)\n",
            "Requirement already satisfied: pytz>=2020.1 in c:\\python\\python38\\lib\\site-packages (from pandas>=0.24->catboost) (2024.1)\n",
            "Requirement already satisfied: tzdata>=2022.1 in c:\\python\\python38\\lib\\site-packages (from pandas>=0.24->catboost) (2024.1)\n",
            "Requirement already satisfied: contourpy>=1.0.1 in c:\\python\\python38\\lib\\site-packages (from matplotlib->catboost) (1.1.1)\n",
            "Requirement already satisfied: cycler>=0.10 in c:\\python\\python38\\lib\\site-packages (from matplotlib->catboost) (0.12.1)\n",
            "Requirement already satisfied: fonttools>=4.22.0 in c:\\python\\python38\\lib\\site-packages (from matplotlib->catboost) (4.49.0)\n",
            "Requirement already satisfied: kiwisolver>=1.0.1 in c:\\python\\python38\\lib\\site-packages (from matplotlib->catboost) (1.4.5)\n",
            "Requirement already satisfied: packaging>=20.0 in c:\\python\\python38\\lib\\site-packages (from matplotlib->catboost) (24.0)\n",
            "Requirement already satisfied: pillow>=6.2.0 in c:\\python\\python38\\lib\\site-packages (from matplotlib->catboost) (10.2.0)\n",
            "Requirement already satisfied: pyparsing>=2.3.1 in c:\\python\\python38\\lib\\site-packages (from matplotlib->catboost) (3.1.2)\n",
            "Requirement already satisfied: importlib-resources>=3.2.0 in c:\\python\\python38\\lib\\site-packages (from matplotlib->catboost) (6.1.3)\n",
            "Requirement already satisfied: tenacity>=6.2.0 in c:\\python\\python38\\lib\\site-packages (from plotly->catboost) (8.2.3)\n",
            "Requirement already satisfied: zipp>=3.1.0 in c:\\python\\python38\\lib\\site-packages (from importlib-resources>=3.2.0->matplotlib->catboost) (3.17.0)\n",
            "Requirement already satisfied: gensim in c:\\python\\python38\\lib\\site-packages (4.3.2)\n",
            "Requirement already satisfied: numpy>=1.18.5 in c:\\python\\python38\\lib\\site-packages (from gensim) (1.24.1)\n",
            "Requirement already satisfied: scipy>=1.7.0 in c:\\python\\python38\\lib\\site-packages (from gensim) (1.10.1)\n",
            "Requirement already satisfied: smart-open>=1.8.1 in c:\\python\\python38\\lib\\site-packages (from gensim) (6.4.0)\n",
            "Requirement already satisfied: transformers in c:\\python\\python38\\lib\\site-packages (4.38.2)\n",
            "Requirement already satisfied: sentencepiece in c:\\python\\python38\\lib\\site-packages (0.2.0)\n",
            "Requirement already satisfied: sacremoses in c:\\python\\python38\\lib\\site-packages (0.1.1)\n",
            "Requirement already satisfied: filelock in c:\\python\\python38\\lib\\site-packages (from transformers) (3.9.0)\n",
            "Requirement already satisfied: huggingface-hub<1.0,>=0.19.3 in c:\\python\\python38\\lib\\site-packages (from transformers) (0.21.4)\n",
            "Requirement already satisfied: numpy>=1.17 in c:\\python\\python38\\lib\\site-packages (from transformers) (1.24.1)\n",
            "Requirement already satisfied: packaging>=20.0 in c:\\python\\python38\\lib\\site-packages (from transformers) (24.0)\n",
            "Requirement already satisfied: pyyaml>=5.1 in c:\\python\\python38\\lib\\site-packages (from transformers) (5.4.1)\n",
            "Requirement already satisfied: regex!=2019.12.17 in c:\\python\\python38\\lib\\site-packages (from transformers) (2023.12.25)\n",
            "Requirement already satisfied: requests in c:\\python\\python38\\lib\\site-packages (from transformers) (2.31.0)\n",
            "Requirement already satisfied: tokenizers<0.19,>=0.14 in c:\\python\\python38\\lib\\site-packages (from transformers) (0.15.2)\n",
            "Requirement already satisfied: safetensors>=0.4.1 in c:\\python\\python38\\lib\\site-packages (from transformers) (0.4.2)\n",
            "Requirement already satisfied: tqdm>=4.27 in c:\\python\\python38\\lib\\site-packages (from transformers) (4.66.2)\n",
            "Requirement already satisfied: click in c:\\python\\python38\\lib\\site-packages (from sacremoses) (8.1.7)\n",
            "Requirement already satisfied: joblib in c:\\python\\python38\\lib\\site-packages (from sacremoses) (1.3.2)\n",
            "Requirement already satisfied: fsspec>=2023.5.0 in c:\\python\\python38\\lib\\site-packages (from huggingface-hub<1.0,>=0.19.3->transformers) (2024.2.0)\n",
            "Requirement already satisfied: typing-extensions>=3.7.4.3 in c:\\python\\python38\\lib\\site-packages (from huggingface-hub<1.0,>=0.19.3->transformers) (4.10.0)\n",
            "Requirement already satisfied: colorama in c:\\python\\python38\\lib\\site-packages (from tqdm>=4.27->transformers) (0.4.6)\n",
            "Requirement already satisfied: charset-normalizer<4,>=2 in c:\\python\\python38\\lib\\site-packages (from requests->transformers) (3.3.2)\n",
            "Requirement already satisfied: idna<4,>=2.5 in c:\\python\\python38\\lib\\site-packages (from requests->transformers) (3.6)\n",
            "Requirement already satisfied: urllib3<3,>=1.21.1 in c:\\python\\python38\\lib\\site-packages (from requests->transformers) (2.2.1)\n",
            "Requirement already satisfied: certifi>=2017.4.17 in c:\\python\\python38\\lib\\site-packages (from requests->transformers) (2024.2.2)\n",
            "Requirement already satisfied: ekphrasis in c:\\python\\python38\\lib\\site-packages (0.5.4)\n",
            "Requirement already satisfied: termcolor in c:\\python\\python38\\lib\\site-packages (from ekphrasis) (2.4.0)\n",
            "Requirement already satisfied: tqdm in c:\\python\\python38\\lib\\site-packages (from ekphrasis) (4.66.2)\n",
            "Requirement already satisfied: colorama in c:\\python\\python38\\lib\\site-packages (from ekphrasis) (0.4.6)\n",
            "Requirement already satisfied: ujson in c:\\python\\python38\\lib\\site-packages (from ekphrasis) (5.9.0)\n",
            "Requirement already satisfied: matplotlib in c:\\python\\python38\\lib\\site-packages (from ekphrasis) (3.7.5)\n",
            "Requirement already satisfied: nltk in c:\\python\\python38\\lib\\site-packages (from ekphrasis) (3.8.1)\n",
            "Requirement already satisfied: ftfy in c:\\python\\python38\\lib\\site-packages (from ekphrasis) (6.1.3)\n",
            "Requirement already satisfied: numpy in c:\\python\\python38\\lib\\site-packages (from ekphrasis) (1.24.1)\n",
            "Requirement already satisfied: wcwidth<0.3.0,>=0.2.12 in c:\\python\\python38\\lib\\site-packages (from ftfy->ekphrasis) (0.2.13)\n",
            "Requirement already satisfied: contourpy>=1.0.1 in c:\\python\\python38\\lib\\site-packages (from matplotlib->ekphrasis) (1.1.1)\n",
            "Requirement already satisfied: cycler>=0.10 in c:\\python\\python38\\lib\\site-packages (from matplotlib->ekphrasis) (0.12.1)\n",
            "Requirement already satisfied: fonttools>=4.22.0 in c:\\python\\python38\\lib\\site-packages (from matplotlib->ekphrasis) (4.49.0)\n",
            "Requirement already satisfied: kiwisolver>=1.0.1 in c:\\python\\python38\\lib\\site-packages (from matplotlib->ekphrasis) (1.4.5)\n",
            "Requirement already satisfied: packaging>=20.0 in c:\\python\\python38\\lib\\site-packages (from matplotlib->ekphrasis) (24.0)\n",
            "Requirement already satisfied: pillow>=6.2.0 in c:\\python\\python38\\lib\\site-packages (from matplotlib->ekphrasis) (10.2.0)\n",
            "Requirement already satisfied: pyparsing>=2.3.1 in c:\\python\\python38\\lib\\site-packages (from matplotlib->ekphrasis) (3.1.2)\n",
            "Requirement already satisfied: python-dateutil>=2.7 in c:\\python\\python38\\lib\\site-packages (from matplotlib->ekphrasis) (2.9.0.post0)\n",
            "Requirement already satisfied: importlib-resources>=3.2.0 in c:\\python\\python38\\lib\\site-packages (from matplotlib->ekphrasis) (6.1.3)\n",
            "Requirement already satisfied: click in c:\\python\\python38\\lib\\site-packages (from nltk->ekphrasis) (8.1.7)\n",
            "Requirement already satisfied: joblib in c:\\python\\python38\\lib\\site-packages (from nltk->ekphrasis) (1.3.2)\n",
            "Requirement already satisfied: regex>=2021.8.3 in c:\\python\\python38\\lib\\site-packages (from nltk->ekphrasis) (2023.12.25)\n",
            "Requirement already satisfied: zipp>=3.1.0 in c:\\python\\python38\\lib\\site-packages (from importlib-resources>=3.2.0->matplotlib->ekphrasis) (3.17.0)\n",
            "Requirement already satisfied: six>=1.5 in c:\\python\\python38\\lib\\site-packages (from python-dateutil>=2.7->matplotlib->ekphrasis) (1.16.0)\n"
          ]
        }
      ],
      "source": [
        "#Install required packages and libraries\n",
        "\n",
        "!apt-get install libenchant-2-2\n",
        "!pip install emoji\n",
        "!pip install cleantext\n",
        "!pip install nltk\n",
        "!pip install pyenchant\n",
        "!pip install scikit-learn lightgbm catboost\n",
        "!pip install gensim\n",
        "!pip install transformers sentencepiece sacremoses\n",
        "!pip install ekphrasis"
      ]
    },
    {
      "cell_type": "code",
      "source": [
        "!pip3 install spacy\n",
        "\n",
        "!python -m spacy download en_core_web_sm"
      ],
      "metadata": {
        "id": "FJz6I9CXqXzC",
        "colab": {
          "base_uri": "https://localhost:8080/"
        },
        "outputId": "e3a5f7fd-46a8-486e-dc7b-4311de6895db"
      },
      "execution_count": null,
      "outputs": [
        {
          "output_type": "stream",
          "name": "stdout",
          "text": [
            "Requirement already satisfied: spacy in c:\\python\\python38\\lib\\site-packages (3.7.4)\n",
            "Requirement already satisfied: spacy-legacy<3.1.0,>=3.0.11 in c:\\python\\python38\\lib\\site-packages (from spacy) (3.0.12)\n",
            "Requirement already satisfied: spacy-loggers<2.0.0,>=1.0.0 in c:\\python\\python38\\lib\\site-packages (from spacy) (1.0.5)\n",
            "Requirement already satisfied: murmurhash<1.1.0,>=0.28.0 in c:\\python\\python38\\lib\\site-packages (from spacy) (1.0.10)\n",
            "Requirement already satisfied: cymem<2.1.0,>=2.0.2 in c:\\python\\python38\\lib\\site-packages (from spacy) (2.0.8)\n",
            "Requirement already satisfied: preshed<3.1.0,>=3.0.2 in c:\\python\\python38\\lib\\site-packages (from spacy) (3.0.9)\n",
            "Requirement already satisfied: thinc<8.3.0,>=8.2.2 in c:\\python\\python38\\lib\\site-packages (from spacy) (8.2.3)\n",
            "Requirement already satisfied: wasabi<1.2.0,>=0.9.1 in c:\\python\\python38\\lib\\site-packages (from spacy) (1.1.2)\n",
            "Requirement already satisfied: srsly<3.0.0,>=2.4.3 in c:\\python\\python38\\lib\\site-packages (from spacy) (2.4.8)\n",
            "Requirement already satisfied: catalogue<2.1.0,>=2.0.6 in c:\\python\\python38\\lib\\site-packages (from spacy) (2.0.10)\n",
            "Requirement already satisfied: weasel<0.4.0,>=0.1.0 in c:\\python\\python38\\lib\\site-packages (from spacy) (0.3.4)\n",
            "Requirement already satisfied: typer<0.10.0,>=0.3.0 in c:\\python\\python38\\lib\\site-packages (from spacy) (0.9.0)\n",
            "Requirement already satisfied: smart-open<7.0.0,>=5.2.1 in c:\\python\\python38\\lib\\site-packages (from spacy) (6.4.0)\n",
            "Requirement already satisfied: tqdm<5.0.0,>=4.38.0 in c:\\python\\python38\\lib\\site-packages (from spacy) (4.66.2)\n",
            "Requirement already satisfied: requests<3.0.0,>=2.13.0 in c:\\python\\python38\\lib\\site-packages (from spacy) (2.31.0)\n",
            "Requirement already satisfied: pydantic!=1.8,!=1.8.1,<3.0.0,>=1.7.4 in c:\\python\\python38\\lib\\site-packages (from spacy) (2.6.4)\n",
            "Requirement already satisfied: jinja2 in c:\\python\\python38\\lib\\site-packages (from spacy) (3.1.3)\n",
            "Requirement already satisfied: setuptools in c:\\python\\python38\\lib\\site-packages (from spacy) (41.2.0)\n",
            "Requirement already satisfied: packaging>=20.0 in c:\\python\\python38\\lib\\site-packages (from spacy) (24.0)\n",
            "Requirement already satisfied: langcodes<4.0.0,>=3.2.0 in c:\\python\\python38\\lib\\site-packages (from spacy) (3.3.0)\n",
            "Requirement already satisfied: numpy>=1.15.0 in c:\\python\\python38\\lib\\site-packages (from spacy) (1.24.1)\n",
            "Requirement already satisfied: annotated-types>=0.4.0 in c:\\python\\python38\\lib\\site-packages (from pydantic!=1.8,!=1.8.1,<3.0.0,>=1.7.4->spacy) (0.6.0)\n",
            "Requirement already satisfied: pydantic-core==2.16.3 in c:\\python\\python38\\lib\\site-packages (from pydantic!=1.8,!=1.8.1,<3.0.0,>=1.7.4->spacy) (2.16.3)\n",
            "Requirement already satisfied: typing-extensions>=4.6.1 in c:\\python\\python38\\lib\\site-packages (from pydantic!=1.8,!=1.8.1,<3.0.0,>=1.7.4->spacy) (4.10.0)\n",
            "Requirement already satisfied: charset-normalizer<4,>=2 in c:\\python\\python38\\lib\\site-packages (from requests<3.0.0,>=2.13.0->spacy) (3.3.2)\n",
            "Requirement already satisfied: idna<4,>=2.5 in c:\\python\\python38\\lib\\site-packages (from requests<3.0.0,>=2.13.0->spacy) (3.6)\n",
            "Requirement already satisfied: urllib3<3,>=1.21.1 in c:\\python\\python38\\lib\\site-packages (from requests<3.0.0,>=2.13.0->spacy) (2.2.1)\n",
            "Requirement already satisfied: certifi>=2017.4.17 in c:\\python\\python38\\lib\\site-packages (from requests<3.0.0,>=2.13.0->spacy) (2024.2.2)\n",
            "Requirement already satisfied: blis<0.8.0,>=0.7.8 in c:\\python\\python38\\lib\\site-packages (from thinc<8.3.0,>=8.2.2->spacy) (0.7.11)\n",
            "Requirement already satisfied: confection<1.0.0,>=0.0.1 in c:\\python\\python38\\lib\\site-packages (from thinc<8.3.0,>=8.2.2->spacy) (0.1.4)\n",
            "Requirement already satisfied: colorama in c:\\python\\python38\\lib\\site-packages (from tqdm<5.0.0,>=4.38.0->spacy) (0.4.6)\n",
            "Requirement already satisfied: click<9.0.0,>=7.1.1 in c:\\python\\python38\\lib\\site-packages (from typer<0.10.0,>=0.3.0->spacy) (8.1.7)\n",
            "Requirement already satisfied: cloudpathlib<0.17.0,>=0.7.0 in c:\\python\\python38\\lib\\site-packages (from weasel<0.4.0,>=0.1.0->spacy) (0.16.0)\n",
            "Requirement already satisfied: MarkupSafe>=2.0 in c:\\python\\python38\\lib\\site-packages (from jinja2->spacy) (2.1.5)\n",
            "Collecting en-core-web-sm==3.7.1\n",
            "  Downloading https://github.com/explosion/spacy-models/releases/download/en_core_web_sm-3.7.1/en_core_web_sm-3.7.1-py3-none-any.whl (12.8 MB)\n",
            "     ---------------------------------------- 0.0/12.8 MB ? eta -:--:--\n",
            "     --------------------------------------- 0.0/12.8 MB 660.6 kB/s eta 0:00:20\n",
            "     --------------------------------------- 0.0/12.8 MB 660.6 kB/s eta 0:00:20\n",
            "     --------------------------------------- 0.1/12.8 MB 409.6 kB/s eta 0:00:32\n",
            "     --------------------------------------- 0.1/12.8 MB 598.8 kB/s eta 0:00:22\n",
            "     --------------------------------------- 0.1/12.8 MB 516.7 kB/s eta 0:00:25\n",
            "      -------------------------------------- 0.3/12.8 MB 874.6 kB/s eta 0:00:15\n",
            "     - ------------------------------------- 0.3/12.8 MB 955.3 kB/s eta 0:00:14\n",
            "     - -------------------------------------- 0.5/12.8 MB 1.3 MB/s eta 0:00:10\n",
            "     -- ------------------------------------- 0.7/12.8 MB 1.5 MB/s eta 0:00:08\n",
            "     --- ------------------------------------ 1.1/12.8 MB 2.1 MB/s eta 0:00:06\n",
            "     ---- ----------------------------------- 1.5/12.8 MB 2.5 MB/s eta 0:00:05\n",
            "     ------- -------------------------------- 2.4/12.8 MB 3.8 MB/s eta 0:00:03\n",
            "     --------- ------------------------------ 3.2/12.8 MB 4.5 MB/s eta 0:00:03\n",
            "     ---------------- ----------------------- 5.2/12.8 MB 6.8 MB/s eta 0:00:02\n",
            "     --------------------- ------------------ 6.9/12.8 MB 8.3 MB/s eta 0:00:01\n",
            "     ----------------------------- ---------- 9.3/12.8 MB 10.5 MB/s eta 0:00:01\n",
            "     ----------------------------- ---------- 9.3/12.8 MB 10.5 MB/s eta 0:00:01\n",
            "     --------------------------------------  12.7/12.8 MB 26.2 MB/s eta 0:00:01\n",
            "     --------------------------------------- 12.8/12.8 MB 26.2 MB/s eta 0:00:00\n",
            "Requirement already satisfied: spacy<3.8.0,>=3.7.2 in c:\\python\\python38\\lib\\site-packages (from en-core-web-sm==3.7.1) (3.7.4)\n",
            "Requirement already satisfied: spacy-legacy<3.1.0,>=3.0.11 in c:\\python\\python38\\lib\\site-packages (from spacy<3.8.0,>=3.7.2->en-core-web-sm==3.7.1) (3.0.12)\n",
            "Requirement already satisfied: spacy-loggers<2.0.0,>=1.0.0 in c:\\python\\python38\\lib\\site-packages (from spacy<3.8.0,>=3.7.2->en-core-web-sm==3.7.1) (1.0.5)\n",
            "Requirement already satisfied: murmurhash<1.1.0,>=0.28.0 in c:\\python\\python38\\lib\\site-packages (from spacy<3.8.0,>=3.7.2->en-core-web-sm==3.7.1) (1.0.10)\n",
            "Requirement already satisfied: cymem<2.1.0,>=2.0.2 in c:\\python\\python38\\lib\\site-packages (from spacy<3.8.0,>=3.7.2->en-core-web-sm==3.7.1) (2.0.8)\n",
            "Requirement already satisfied: preshed<3.1.0,>=3.0.2 in c:\\python\\python38\\lib\\site-packages (from spacy<3.8.0,>=3.7.2->en-core-web-sm==3.7.1) (3.0.9)\n",
            "Requirement already satisfied: thinc<8.3.0,>=8.2.2 in c:\\python\\python38\\lib\\site-packages (from spacy<3.8.0,>=3.7.2->en-core-web-sm==3.7.1) (8.2.3)\n",
            "Requirement already satisfied: wasabi<1.2.0,>=0.9.1 in c:\\python\\python38\\lib\\site-packages (from spacy<3.8.0,>=3.7.2->en-core-web-sm==3.7.1) (1.1.2)\n",
            "Requirement already satisfied: srsly<3.0.0,>=2.4.3 in c:\\python\\python38\\lib\\site-packages (from spacy<3.8.0,>=3.7.2->en-core-web-sm==3.7.1) (2.4.8)\n",
            "Requirement already satisfied: catalogue<2.1.0,>=2.0.6 in c:\\python\\python38\\lib\\site-packages (from spacy<3.8.0,>=3.7.2->en-core-web-sm==3.7.1) (2.0.10)\n",
            "Requirement already satisfied: weasel<0.4.0,>=0.1.0 in c:\\python\\python38\\lib\\site-packages (from spacy<3.8.0,>=3.7.2->en-core-web-sm==3.7.1) (0.3.4)\n",
            "Requirement already satisfied: typer<0.10.0,>=0.3.0 in c:\\python\\python38\\lib\\site-packages (from spacy<3.8.0,>=3.7.2->en-core-web-sm==3.7.1) (0.9.0)\n",
            "Requirement already satisfied: smart-open<7.0.0,>=5.2.1 in c:\\python\\python38\\lib\\site-packages (from spacy<3.8.0,>=3.7.2->en-core-web-sm==3.7.1) (6.4.0)\n",
            "Requirement already satisfied: tqdm<5.0.0,>=4.38.0 in c:\\python\\python38\\lib\\site-packages (from spacy<3.8.0,>=3.7.2->en-core-web-sm==3.7.1) (4.66.2)\n",
            "Requirement already satisfied: requests<3.0.0,>=2.13.0 in c:\\python\\python38\\lib\\site-packages (from spacy<3.8.0,>=3.7.2->en-core-web-sm==3.7.1) (2.31.0)\n",
            "Requirement already satisfied: pydantic!=1.8,!=1.8.1,<3.0.0,>=1.7.4 in c:\\python\\python38\\lib\\site-packages (from spacy<3.8.0,>=3.7.2->en-core-web-sm==3.7.1) (2.6.4)\n",
            "Requirement already satisfied: jinja2 in c:\\python\\python38\\lib\\site-packages (from spacy<3.8.0,>=3.7.2->en-core-web-sm==3.7.1) (3.1.3)\n",
            "Requirement already satisfied: setuptools in c:\\python\\python38\\lib\\site-packages (from spacy<3.8.0,>=3.7.2->en-core-web-sm==3.7.1) (41.2.0)\n",
            "Requirement already satisfied: packaging>=20.0 in c:\\python\\python38\\lib\\site-packages (from spacy<3.8.0,>=3.7.2->en-core-web-sm==3.7.1) (24.0)\n",
            "Requirement already satisfied: langcodes<4.0.0,>=3.2.0 in c:\\python\\python38\\lib\\site-packages (from spacy<3.8.0,>=3.7.2->en-core-web-sm==3.7.1) (3.3.0)\n",
            "Requirement already satisfied: numpy>=1.15.0 in c:\\python\\python38\\lib\\site-packages (from spacy<3.8.0,>=3.7.2->en-core-web-sm==3.7.1) (1.24.1)\n",
            "Requirement already satisfied: annotated-types>=0.4.0 in c:\\python\\python38\\lib\\site-packages (from pydantic!=1.8,!=1.8.1,<3.0.0,>=1.7.4->spacy<3.8.0,>=3.7.2->en-core-web-sm==3.7.1) (0.6.0)\n",
            "Requirement already satisfied: pydantic-core==2.16.3 in c:\\python\\python38\\lib\\site-packages (from pydantic!=1.8,!=1.8.1,<3.0.0,>=1.7.4->spacy<3.8.0,>=3.7.2->en-core-web-sm==3.7.1) (2.16.3)\n",
            "Requirement already satisfied: typing-extensions>=4.6.1 in c:\\python\\python38\\lib\\site-packages (from pydantic!=1.8,!=1.8.1,<3.0.0,>=1.7.4->spacy<3.8.0,>=3.7.2->en-core-web-sm==3.7.1) (4.10.0)\n",
            "Requirement already satisfied: charset-normalizer<4,>=2 in c:\\python\\python38\\lib\\site-packages (from requests<3.0.0,>=2.13.0->spacy<3.8.0,>=3.7.2->en-core-web-sm==3.7.1) (3.3.2)\n",
            "Requirement already satisfied: idna<4,>=2.5 in c:\\python\\python38\\lib\\site-packages (from requests<3.0.0,>=2.13.0->spacy<3.8.0,>=3.7.2->en-core-web-sm==3.7.1) (3.6)\n",
            "Requirement already satisfied: urllib3<3,>=1.21.1 in c:\\python\\python38\\lib\\site-packages (from requests<3.0.0,>=2.13.0->spacy<3.8.0,>=3.7.2->en-core-web-sm==3.7.1) (2.2.1)\n",
            "Requirement already satisfied: certifi>=2017.4.17 in c:\\python\\python38\\lib\\site-packages (from requests<3.0.0,>=2.13.0->spacy<3.8.0,>=3.7.2->en-core-web-sm==3.7.1) (2024.2.2)\n",
            "Requirement already satisfied: blis<0.8.0,>=0.7.8 in c:\\python\\python38\\lib\\site-packages (from thinc<8.3.0,>=8.2.2->spacy<3.8.0,>=3.7.2->en-core-web-sm==3.7.1) (0.7.11)\n",
            "Requirement already satisfied: confection<1.0.0,>=0.0.1 in c:\\python\\python38\\lib\\site-packages (from thinc<8.3.0,>=8.2.2->spacy<3.8.0,>=3.7.2->en-core-web-sm==3.7.1) (0.1.4)\n",
            "Requirement already satisfied: colorama in c:\\python\\python38\\lib\\site-packages (from tqdm<5.0.0,>=4.38.0->spacy<3.8.0,>=3.7.2->en-core-web-sm==3.7.1) (0.4.6)\n",
            "Requirement already satisfied: click<9.0.0,>=7.1.1 in c:\\python\\python38\\lib\\site-packages (from typer<0.10.0,>=0.3.0->spacy<3.8.0,>=3.7.2->en-core-web-sm==3.7.1) (8.1.7)\n",
            "Requirement already satisfied: cloudpathlib<0.17.0,>=0.7.0 in c:\\python\\python38\\lib\\site-packages (from weasel<0.4.0,>=0.1.0->spacy<3.8.0,>=3.7.2->en-core-web-sm==3.7.1) (0.16.0)\n",
            "Requirement already satisfied: MarkupSafe>=2.0 in c:\\python\\python38\\lib\\site-packages (from jinja2->spacy<3.8.0,>=3.7.2->en-core-web-sm==3.7.1) (2.1.5)\n",
            "\u001b[38;5;2m[+] Download and installation successful\u001b[0m\n",
            "You can now load the package via spacy.load('en_core_web_sm')\n"
          ]
        }
      ]
    },
    {
      "cell_type": "code",
      "source": [
        "import spacy\n",
        "nlp = spacy.load('en_core_web_sm')\n",
        "ner_categories =['PERSON', 'PRDOUCT' , 'ORG', 'GPE']\n",
        "text = 'John drives to Sidny school every day with his windows phone made by microsoft'\n",
        "doc = nlp(text)\n",
        "print(doc)\n",
        "for ent in doc.ents:\n",
        "  print(ent.text , ent.label, ent.label_)"
      ],
      "metadata": {
        "id": "8n2Bl0jfrA8Z",
        "colab": {
          "base_uri": "https://localhost:8080/"
        },
        "outputId": "ef328846-c59e-4d8d-e54b-988082f91301"
      },
      "execution_count": null,
      "outputs": [
        {
          "output_type": "stream",
          "name": "stdout",
          "text": [
            "John drives to Sidny school every day with his windows phone made by microsoft\n",
            "John 380 PERSON\n",
            "Sidny 384 GPE\n",
            "microsoft 383 ORG\n"
          ]
        }
      ]
    },
    {
      "cell_type": "markdown",
      "metadata": {
        "id": "uUeHgN3BM3x0"
      },
      "source": [
        "## Import data\n",
        "\n",
        "Get the required data files from github repository"
      ]
    },
    {
      "cell_type": "code",
      "execution_count": null,
      "metadata": {
        "id": "4PGYc5OXNBFh",
        "colab": {
          "base_uri": "https://localhost:8080/"
        },
        "outputId": "b512692e-fbcf-4887-826c-ab45f1a701c9"
      },
      "outputs": [
        {
          "output_type": "stream",
          "name": "stderr",
          "text": [
            "fatal: destination path 'suggestion-mining' already exists and is not an empty directory.\n"
          ]
        }
      ],
      "source": [
        "!git clone https://github.com/cse-teacher/suggestion-mining.git"
      ]
    },
    {
      "cell_type": "markdown",
      "metadata": {
        "id": "N2FjFI8E7gDn"
      },
      "source": [
        "## Prepare data"
      ]
    },
    {
      "cell_type": "code",
      "execution_count": null,
      "metadata": {
        "id": "xWr3Gqpm9264",
        "colab": {
          "base_uri": "https://localhost:8080/"
        },
        "outputId": "093551d2-bab0-4740-af90-e88f7cb26d7c"
      },
      "outputs": [
        {
          "output_type": "stream",
          "name": "stdout",
          "text": [
            "current start time 2024-04-10_16-11-43\n"
          ]
        }
      ],
      "source": [
        "# Read data from input files\n",
        "#Reset environment\n",
        "%reset -f\n",
        "\n",
        "import numpy as np\n",
        "import pandas as pd\n",
        "import random\n",
        "import sys\n",
        "from datetime import datetime\n",
        "\n",
        "#Set default seed:\n",
        "random.seed(42)\n",
        "\n",
        "#Main Application\n",
        "folder     = \"./suggestion-mining/data/\"\n",
        "train_file = folder + \"V1.4_Training.csv\" #\"Train_Augmented_03.csv\" # V1.4_Training.csv\" #  \"Train_processed.csv\" /suggestion-mining/data/Train_Augmented_03.csv\n",
        "valid_file = folder + \"SubtaskA_Trial_Test_Labeled.csv\" #\"validation_processed.csv\"\n",
        "test_file  = folder + \"SubtaskA_EvaluationData_labeled.csv\"\n",
        "\n",
        "train_df = pd.read_csv(train_file,\n",
        "                       encoding_errors='ignore', header=None,\n",
        "                       names=[\"id\", \"sentence\", \"label\"])\n",
        "\n",
        "valid_df = pd.read_csv(valid_file,\n",
        "                       encoding_errors='ignore', header=None,\n",
        "                       names=[\"id\", \"sentence\", \"label\"])\n",
        "\n",
        "test_df  = pd.read_csv(test_file,\n",
        "                       encoding_errors='ignore', header=None,\n",
        "                       names=[\"id\", \"sentence\", \"label\"])\n",
        "\n",
        "all_df = pd.concat([train_df, valid_df, test_df], axis=0)\n",
        "\n",
        "\n",
        "#Get the labels:\n",
        "y_train_original = train_df['label'].values\n",
        "y_valid_original = valid_df['label'].values\n",
        "y_test_original  = test_df['label'].values\n",
        "y_all_original  = all_df['label'].values\n",
        "train_size = len(train_df['label'])\n",
        "valid_size = len(valid_df['label'])\n",
        "test_size  = len(test_df['label'])\n",
        "\n",
        "# to save results and models we need time-based file names\n",
        "current_datetime = datetime.now()\n",
        "results_df = pd.DataFrame({'labels': y_test_original})\n",
        "start_time_str = datetime.now().strftime(\"%Y-%m-%d_%H-%M-%S\")\n",
        "print(f\"current start time {start_time_str}\")"
      ]
    },
    {
      "cell_type": "markdown",
      "metadata": {
        "id": "QsaeHSk9PmO1"
      },
      "source": [
        "**Preprocessing**"
      ]
    },
    {
      "cell_type": "code",
      "execution_count": null,
      "metadata": {
        "id": "Npr8F9hTQzwG",
        "colab": {
          "base_uri": "https://localhost:8080/"
        },
        "outputId": "0e514ccd-3c4b-41c3-8f9e-597fab18a5a3"
      },
      "outputs": [
        {
          "output_type": "stream",
          "name": "stdout",
          "text": [
            "Replaced Text: PERSON should seriously look into getting rid of GPE for all these paying stuff\n"
          ]
        },
        {
          "output_type": "stream",
          "name": "stderr",
          "text": [
            "[nltk_data] Downloading package punkt to\n",
            "[nltk_data]     C:\\Users\\mmr\\AppData\\Roaming\\nltk_data...\n",
            "[nltk_data]   Package punkt is already up-to-date!\n",
            "[nltk_data] Downloading package averaged_perceptron_tagger to\n",
            "[nltk_data]     C:\\Users\\mmr\\AppData\\Roaming\\nltk_data...\n",
            "[nltk_data]   Package averaged_perceptron_tagger is already up-to-\n",
            "[nltk_data]       date!\n",
            "[nltk_data] Downloading package maxent_ne_chunker to\n",
            "[nltk_data]     C:\\Users\\mmr\\AppData\\Roaming\\nltk_data...\n",
            "[nltk_data]   Package maxent_ne_chunker is already up-to-date!\n",
            "[nltk_data] Downloading package words to\n",
            "[nltk_data]     C:\\Users\\mmr\\AppData\\Roaming\\nltk_data...\n",
            "[nltk_data]   Package words is already up-to-date!\n",
            "[nltk_data] Downloading package stopwords to\n",
            "[nltk_data]     C:\\Users\\mmr\\AppData\\Roaming\\nltk_data...\n",
            "[nltk_data]   Package stopwords is already up-to-date!\n"
          ]
        }
      ],
      "source": [
        "import sys\n",
        "import re\n",
        "import nltk\n",
        "import cleantext\n",
        "from nltk import word_tokenize, pos_tag, ne_chunk\n",
        "from nltk.stem.snowball import SnowballStemmer\n",
        "from nltk.tokenize import word_tokenize\n",
        "from nltk.corpus import stopwords\n",
        "\n",
        "def remove_nonalpha(text):\n",
        "    #text = re.sub(r'[^A-Za-z0-9]+', ' ', text)\n",
        "  text = re.sub(r'[^A-Za-z]+', ' ', text)\n",
        "  text = re.sub(r'\\s+', ' ', text)\n",
        "  return text\n",
        "\n",
        "def remove_nonalphanumeric(text):\n",
        "    #text = re.sub(r'[^A-Za-z0-9]+', ' ', text)\n",
        "  text = re.sub(r'\\W+', ' ', text)\n",
        "  text = re.sub(r'\\s+', ' ', text)\n",
        "  return text\n",
        "\n",
        "def remove_stopwords_list(tokens):\n",
        "  filtered_tokens = [w for w in tokens if not w.lower() in stop_words]\n",
        "  return filtered_tokens\n",
        "\n",
        "def remove_stopwords(text):\n",
        "  tokens = word_tokenize(text)\n",
        "  filtered_tokens = remove_stopwords_list(tokens)\n",
        "  return ' '.join(filtered_tokens)\n",
        "\n",
        "#-----------------------------------\n",
        "# Replace hyperlinks\n",
        "#\n",
        "def replace_hyperlinks(text):\n",
        "  text = re.sub(r'https?:\\/\\/\\S+', 'hyperlink', text)\n",
        "  return text\n",
        "\n",
        "def stem(text):\n",
        "  tokens = word_tokenize(text.strip())\n",
        "  tokens_stem =[stemmer.stem(s) for s in tokens]\n",
        "  return ' '.join(tokens_stem)\n",
        "\n",
        "#----------------------------------------\n",
        "# replace_named_entities:\n",
        "#    Replaces each word or phrase in the input text with its\n",
        "#    Named Entity Recognition (NER) tag label.\n",
        "#    Args:\n",
        "#    text (str): Input text\n",
        "#\n",
        "#    Returns:\n",
        "#    str: Text with named entities replaced by their NER tag labels\n",
        "#\n",
        "def replace_named_entities(text):\n",
        "    # Tokenize the text into words\n",
        "    words = word_tokenize(text)\n",
        "\n",
        "    # Tag the words with Part-of-Speech (POS) tags\n",
        "    tagged_words = pos_tag(words)\n",
        "\n",
        "    # Perform Named Entity Recognition (NER)\n",
        "    named_entities = ne_chunk(tagged_words)\n",
        "\n",
        "    # Replace entities with their NER tag labels\n",
        "    replaced_text = []\n",
        "    for entity in named_entities:\n",
        "        if isinstance(entity, nltk.tree.Tree):\n",
        "            label = entity.label()\n",
        "            named_entity_text = \" \".join([word for word, tag in entity.leaves()])\n",
        "            #replaced_text.append(f'<{label}>{named_entity_text}</{label}>')\n",
        "            replaced_text.append(f'{label}')\n",
        "            #replaced_text.append('')\n",
        "        else:\n",
        "            replaced_text.append(entity[0])\n",
        "\n",
        "    return \" \".join(replaced_text)\n",
        "\n",
        "#Global callings:\n",
        "stemmer = SnowballStemmer(\"english\")\n",
        "nltk.download('punkt')\n",
        "nltk.download('averaged_perceptron_tagger')\n",
        "nltk.download('maxent_ne_chunker')\n",
        "nltk.download('words')\n",
        "nltk.download('stopwords')\n",
        "stop_words = set(stopwords.words('english'))\n",
        "\n",
        "# Example usage:\n",
        "text = \"Microsoft should seriously look into getting rid of Syamentc for all these paying stuff\"\n",
        "replaced_text = replace_named_entities(text)\n",
        "print(\"Replaced Text:\", replaced_text)\n"
      ]
    },
    {
      "cell_type": "code",
      "source": [
        "op_replace_hyperlinks      = True\n",
        "op_remove_nonalphanumeric  = True\n",
        "op_remove_nonalpha         = True\n",
        "op_remove_stopwords        = False\n",
        "op_replace_named_entities  = False\n",
        "op_stem                    = False\n",
        "\n",
        "if op_replace_hyperlinks == True:\n",
        "  #replace named entities with their tag names:\n",
        "  train_df['sentence']  = train_df['sentence'].apply(replace_hyperlinks)\n",
        "  test_df['sentence']   = test_df['sentence'].apply(replace_hyperlinks)\n",
        "  valid_df['sentence']  = valid_df['sentence'].apply(replace_hyperlinks)\n",
        "  all_df['sentence']    = all_df['sentence'].apply(replace_hyperlinks)\n",
        "\n",
        "if op_remove_nonalphanumeric == True:\n",
        "  train_df['sentence'] = train_df['sentence'].apply(remove_nonalphanumeric)\n",
        "  valid_df['sentence'] = valid_df['sentence'].apply(remove_nonalphanumeric)\n",
        "  test_df['sentence']  = test_df['sentence'].apply(remove_nonalphanumeric)\n",
        "  all_df['sentence']   = all_df['sentence'].apply(remove_nonalphanumeric)\n",
        "\n",
        "if op_remove_nonalpha  == True:\n",
        "  train_df['sentence'] = train_df['sentence'].apply(remove_nonalpha)\n",
        "  valid_df['sentence'] = valid_df['sentence'].apply(remove_nonalpha)\n",
        "  test_df['sentence']  = test_df['sentence'].apply(remove_nonalpha)\n",
        "  all_df['sentence']   = all_df['sentence'].apply(remove_nonalpha)\n",
        "\n",
        "\n",
        "if op_replace_named_entities == True:\n",
        "  train_df['sentence']  = train_df['sentence'].apply(replace_named_entities)\n",
        "  test_df['sentence']   = test_df['sentence'].apply(replace_named_entities)\n",
        "  valid_df['sentence']  = valid_df['sentence'].apply(replace_named_entities)\n",
        "  all_df['sentence']    = all_df['sentence'].apply(replace_named_entities)\n",
        "\n",
        "if op_remove_stopwords == True:\n",
        "  train_df['sentence'] = train_df['sentence'].apply(remove_stopwords)\n",
        "  valid_df['sentence'] = valid_df['sentence'].apply(remove_stopwords)\n",
        "  test_df['sentence']  = test_df['sentence'].apply(remove_stopwords)\n",
        "  all_df['sentence']   = all_df['sentence'].apply(remove_stopwords)\n",
        "\n",
        "if op_stem == True:\n",
        "  train_df['sentence'] = train_df['sentence'].apply(stem)\n",
        "  valid_df['sentence'] = valid_df['sentence'].apply(stem)\n",
        "  test_df['sentence']  = test_df['sentence'].apply(stem)\n",
        "  all_df['sentence']   = all_df['sentence'].apply(stem)\n",
        "\n",
        "#print some instances\n",
        "train_df['sentence'][195:200].tolist()\n"
      ],
      "metadata": {
        "id": "ceUQZN9Ltd8s",
        "colab": {
          "base_uri": "https://localhost:8080/"
        },
        "outputId": "87e3d97a-9ffc-4618-e8ef-2f5e710d3ae7"
      },
      "execution_count": null,
      "outputs": [
        {
          "output_type": "execute_result",
          "data": {
            "text/plain": [
              "[' When creating an app that uses MediaStreamSource to stream audio in Windows Phone everything works just great ',\n",
              " ' When porting this app to Windows Phone the sound is flickering and its components are stack overflow ing ',\n",
              " ' Here is a discussion on MSDN forums hyperlink And here is a sample project source code hyperlink',\n",
              " ' we are publishing the same apps in Windows Phone Store and Windows App Store ',\n",
              " ' Now we want to bundle these Apps ']"
            ]
          },
          "metadata": {},
          "execution_count": 16
        }
      ]
    },
    {
      "cell_type": "markdown",
      "metadata": {
        "id": "aqJSjOY3bZPl"
      },
      "source": [
        "## Feature extraction"
      ]
    },
    {
      "cell_type": "code",
      "execution_count": null,
      "metadata": {
        "id": "oMghoc88kqxr",
        "colab": {
          "base_uri": "https://localhost:8080/"
        },
        "outputId": "f168fcf4-bf8e-43ed-900f-fc9fa4ba1154"
      },
      "outputs": [
        {
          "output_type": "stream",
          "name": "stdout",
          "text": [
            "Features size: \n",
            "Bow: (9925, 21609),\n",
            "BOW: (9925, 21609)\n",
            "Doc2vec: (9925, 300)\n"
          ]
        }
      ],
      "source": [
        "#Extract BOW feature test\n",
        "import nltk\n",
        "import string\n",
        "from nltk.tokenize import word_tokenize\n",
        "from sklearn.feature_extraction.text import TfidfVectorizer\n",
        "from sklearn.feature_extraction.text import CountVectorizer\n",
        "from nltk.tokenize import wordpunct_tokenize\n",
        "from gensim.test.utils import common_texts\n",
        "from gensim.models.doc2vec import Doc2Vec, TaggedDocument\n",
        "\n",
        "#----------------------\n",
        "# BOW Features\n",
        "bow_vectorizer = CountVectorizer(analyzer='word',\n",
        "                                 stop_words=None,\n",
        "                                 lowercase=True,\n",
        "                                 encoding='utf-8',\n",
        "                                 min_df = 3 ,\n",
        "                                 max_df = 0.975,\n",
        "                                 ngram_range =(1,5))\n",
        "\n",
        "bow_vectorizer.fit(all_df['sentence'])\n",
        "train_bow_features = bow_vectorizer.transform(train_df['sentence']).toarray()\n",
        "valid_bow_features = bow_vectorizer.transform(valid_df['sentence']).toarray()\n",
        "test_bow_features  = bow_vectorizer.transform(test_df['sentence']).toarray()\n",
        "all_bow_features   = bow_vectorizer.transform(all_df['sentence']).toarray()\n",
        "\n",
        "#----------------------\n",
        "# TF-IDF Features\n",
        "\n",
        "# Fit the vectorizer on the sentences to learn vocabulary and IDF weights\n",
        "tfidf_vectorizer = TfidfVectorizer(stop_words=None,\n",
        "                                 lowercase=True,\n",
        "                                 encoding='utf-8',\n",
        "                                 min_df = 3 ,\n",
        "                                 max_df = 0.975, #\n",
        "                                 ngram_range =(1,5))\n",
        "\n",
        "tfidf_vectorizer.fit(all_df['sentence'])\n",
        "\n",
        "# Transform the sentences into tf-idf vectors\n",
        "train_tfidf_features = tfidf_vectorizer.transform(train_df['sentence']).toarray()\n",
        "test_tfidf_features  = tfidf_vectorizer.transform(test_df['sentence']).toarray()\n",
        "valid_tfidf_features = tfidf_vectorizer.transform(valid_df['sentence']).toarray()\n",
        "all_tfidf_features   = tfidf_vectorizer.transform(all_df['sentence']).toarray()\n",
        "\n",
        "#------------------------------------------------\n",
        "# word2vec features\n",
        "#\n",
        "docs = [wordpunct_tokenize(doc) for doc in all_df['sentence']]\n",
        "docs1 = [TaggedDocument(doc, [i]) for i, doc in enumerate(docs)]\n",
        "model_d2v = Doc2Vec(docs1, vector_size=300, window=4, min_count=1, workers=4, epochs=100)\n",
        "\n",
        "#Get the features:\n",
        "vectors = [model_d2v.infer_vector(doc) for doc in(docs)]\n",
        "all_d2v_features = np.array(vectors)\n",
        "train_d2v_features = all_d2v_features[0:train_size,:]\n",
        "valid_d2v_features = all_d2v_features[train_size:train_size+valid_size,:]\n",
        "test_d2v_features  = all_d2v_features[train_size+valid_size:,:]\n",
        "\n",
        "#define global features, empty at first:\n",
        "X_train     = np.empty([])\n",
        "X_test      = np.empty([])\n",
        "X_valid     = np.empty([])\n",
        "X_all       = np.empty([])\n",
        "X_train_val = np.empty([])\n",
        "\n",
        "y_train = y_train_original\n",
        "y_valid = y_valid_original\n",
        "y_test  = y_test_original\n",
        "y_all   = y_all_original\n",
        "y_train_val = np.concatenate((y_train , y_valid), axis= 0 )\n",
        "print(f\"Features size: \\nBow: {all_bow_features.shape},\\nBOW: { all_tfidf_features.shape}\\nDoc2vec: {all_d2v_features.shape}\")"
      ]
    },
    {
      "cell_type": "code",
      "execution_count": null,
      "metadata": {
        "id": "h7Yunwtnxl3c"
      },
      "outputs": [],
      "source": [
        "#===============================================\n",
        "# Utility functions\n",
        "#\n",
        "\n",
        "import tensorflow as tf\n",
        "import string\n",
        "import sklearn\n",
        "import seaborn as sns\n",
        "import pandas as pd\n",
        "import numpy as np\n",
        "import nltk\n",
        "import matplotlib.pyplot as plt\n",
        "import csv\n",
        "from sklearn.svm import SVC\n",
        "from sklearn.preprocessing import StandardScaler\n",
        "from sklearn.preprocessing import normalize\n",
        "from sklearn.decomposition import PCA\n",
        "from sklearn.pipeline import Pipeline\n",
        "from sklearn.neural_network import MLPClassifier\n",
        "from sklearn.neighbors import KNeighborsClassifier\n",
        "from sklearn.discriminant_analysis import LinearDiscriminantAnalysis\n",
        "from sklearn.naive_bayes import GaussianNB\n",
        "from sklearn.tree import DecisionTreeClassifier\n",
        "from sklearn.model_selection import train_test_split\n",
        "from sklearn.model_selection import StratifiedKFold\n",
        "from sklearn.model_selection import ShuffleSplit\n",
        "from sklearn.model_selection import learning_curve\n",
        "from sklearn.model_selection import cross_val_score\n",
        "from sklearn.metrics.pairwise import euclidean_distances\n",
        "from sklearn.metrics.pairwise import cosine_similarity\n",
        "from sklearn.metrics import f1_score, precision_score, recall_score, accuracy_score\n",
        "from sklearn.metrics import classification_report, confusion_matrix\n",
        "from sklearn.metrics import classification_report\n",
        "from sklearn.metrics import accuracy_score, precision_score, recall_score, f1_score\n",
        "from sklearn.linear_model import LogisticRegression\n",
        "from sklearn.feature_extraction.text import TfidfVectorizer\n",
        "from sklearn.feature_extraction.text import CountVectorizer\n",
        "from sklearn.ensemble import RandomForestClassifier\n",
        "from sklearn.datasets import make_classification\n",
        "from nltk.tokenize import word_tokenize\n",
        "from imblearn.over_sampling import SMOTE, RandomOverSampler\n",
        "from sklearn.ensemble import RandomForestClassifier\n",
        "\n",
        "\n",
        "#------------------------------------------------\n",
        "# apply the given option\n",
        "#\n",
        "def select_optional_features(feature_group,\n",
        "                 op_scale_features  = False,\n",
        "                 op_upsample_smote  = False,\n",
        "                 op_upsample_over   = False,\n",
        "                 op_transform_pca   = False,\n",
        "                 op_downsample_majority = False\n",
        "                 ):\n",
        "  global X_train, X_valid, X_test, X_all\n",
        "  global y_train, y_valid, y_test, y_all\n",
        "  global X_train_val , y_train_val\n",
        "  global results_df, start_time_str\n",
        "\n",
        "  description = feature_group\n",
        "  y_train = y_train_original\n",
        "  y_valid = y_valid_original\n",
        "  y_test  = y_test_original\n",
        "\n",
        "  if feature_group == 'tfidf' :\n",
        "    X_train = train_tfidf_features\n",
        "    X_test  = test_tfidf_features\n",
        "    X_valid = valid_tfidf_features\n",
        "    X_all   = all_tfidf_features\n",
        "  elif feature_group == 'bow':\n",
        "    X_train = train_bow_features\n",
        "    X_test  = test_bow_features\n",
        "    X_valid = valid_bow_features\n",
        "    X_all   = all_bow_features\n",
        "  elif feature_group == 'd2v':\n",
        "    X_train = train_d2v_features\n",
        "    X_test  = test_d2v_features\n",
        "    X_valid = valid_d2v_features\n",
        "    X_all   = all_d2v_features\n",
        "\n",
        "  if op_scale_features == True: # Scale numerical features\n",
        "     scaler  = StandardScaler().fit(X_all); description += ', Standard Scaler'\n",
        "     X_all   = scaler.transform(X_all)\n",
        "     X_train = scaler.transform(X_train)\n",
        "     X_test  = scaler.transform(X_test)\n",
        "     X_valid = scaler.transform(X_valid)\n",
        "\n",
        "  if op_upsample_smote == True: # SMOTE oversampling\n",
        "    smote = SMOTE(sampling_strategy=\"minority\") ; description += ', SMOTE Augmentation'\n",
        "    X_train, y_train = smote.fit_resample(X_train, y_train)\n",
        "\n",
        "  if op_upsample_over == True: # Random oversampling\n",
        "    oversampler = RandomOverSampler(random_state=42); description += ', oversampling Augmentation'\n",
        "    X_train, y_train = oversampler.fit_resample(X_train, y_train)\n",
        "\n",
        "  if op_transform_pca == True:  # Do PCA\n",
        "    #n_comps = min(500 , 0.1 * X_all.shape[1])\n",
        "    pca = PCA(n_components=0.95).fit(X_all);  description += ', PCA'\n",
        "    X_train = pca.transform(X_train) ; X_test = pca.transform(X_test)\n",
        "    X_valid = pca.transform(X_valid) ; X_all = pca.transform(X_all)\n",
        "\n",
        "  if op_downsample_majority == True:  # Down sample majority class\n",
        "      # Separate instances for class 1\n",
        "    class_1_instances = X_train[y_train == 1,:]\n",
        "    class_0_instances = X_train[y_train == 0,:]\n",
        "    number_of_samples = class_1_instances.shape[0]\n",
        "    indices = np.random.choice(class_0_instances.shape[0], number_of_samples, replace=False)\n",
        "    sampled_class_0_instances = class_0_instances[indices,:]\n",
        "\n",
        "    # Combine instances for class 1 and sampled instances from class 0\n",
        "    X_train = np.concatenate([class_1_instances, sampled_class_0_instances])\n",
        "    y_train = np.concatenate([np.ones(class_1_instances.shape[0]), np.zeros(sampled_class_0_instances.shape[0])])\n",
        "\n",
        "\n",
        "    # Train + Validation data\n",
        "  X_train_val = np.concatenate((X_train, X_valid) , axis=0)\n",
        "  y_train_val = np.concatenate((y_train, y_valid) , axis=0)\n",
        "  return description\n",
        "\n",
        "#----------------------------------\n",
        "# Print results per class\n",
        "#\n",
        "def print_per_class_results(y_actual, y_pred, description=''):\n",
        "  for label in (0,1):\n",
        "    v0 = accuracy_score(y_actual, y_pred)\n",
        "    v1 = precision_score(y_actual, y_pred, pos_label=label)\n",
        "    v2 = recall_score(y_actual, y_pred, pos_label=label)\n",
        "    v3 = f1_score(y_actual, y_pred, pos_label=label)\n",
        "    print(f\"{description},\\t class={label}\\tAccuracy={v0:.2f},\\t Precision={v1:.2f},\\tRecall={v2:.2f}\\tF1-score={v3:.2f}\")\n",
        "\n",
        "\n",
        "#----------------------------------\n",
        "# Print results per class\n",
        "#\n",
        "def print_results(y_actual, y_pred, description=''):\n",
        "\n",
        "  try:\n",
        "    v00 = accuracy_score(y_actual, y_pred)\n",
        "    v01 = precision_score(y_actual, y_pred, pos_label=0)\n",
        "    v02 = recall_score(y_actual, y_pred, pos_label=0)\n",
        "    v03 = f1_score(y_actual, y_pred, pos_label=0)\n",
        "\n",
        "    v11 = precision_score(y_actual, y_pred, pos_label=1)\n",
        "    v12 = recall_score(y_actual, y_pred, pos_label=1)\n",
        "    v13 = f1_score(y_actual, y_pred, pos_label=1)\n",
        "\n",
        "    smsg = f\"{description},\\tAccuracy={v00:.2f},\\tC0: Pr={v01:.2f}, Re={v02:.2f}, F1={v03:.2f},\\tC1: Pr={v11:.2f}, Re={v12:.2f}, F1={v13:.2f}\"\n",
        "    print(smsg)\n",
        "    with open(f\"results_{start_time_str}.txt\", \"a\") as myfile:\n",
        "      myfile.write(f\"{datetime.now()}\\t {smsg}\\n\")\n",
        "\n",
        "    results_df.insert(len(results_df.columns),description, y_pred)\n",
        "  except Exception as error:\n",
        "      print(f\"something went wrong {error}\")\n",
        "\n",
        "#cutoff probability to make a binary value\n",
        "def prob2label (y, threshold=0.5):\n",
        "  y[y <  threshold] = 0\n",
        "  y[y >= threshold] = 1\n",
        "  return y\n"
      ]
    },
    {
      "cell_type": "code",
      "source": [
        "#ttest based keywords selection:\n",
        "# Import the library\n",
        "import scipy.stats as stats\n",
        "\n",
        "def ttest2(X,y):\n",
        "  X1 = X[y==1, :]; X2 =X[y!=1,:] ;\n",
        "  numcols = X.shape[1]\n",
        "  sval = np.zeros(numcols, float)\n",
        "  pval = np.zeros(numcols, float)\n",
        "  for k in range(0,numcols):\n",
        "    test_result = stats.ttest_ind(a=X1[:,k], b=X2[:,k], equal_var=True)\n",
        "    sval[k] = test_result.statistic\n",
        "    pval[k] = test_result.pvalue\n",
        "  return sval, pval\n",
        "\n",
        "# filter bow features\n",
        "cutoff = 0.1\n",
        "[A,B] = ttest2(train_bow_features , y_train)\n",
        "best_bow_features = np.argsort(B, axis=-1, kind=None, order=None)\n",
        "last_bow_feature = np.min(np.argwhere(B[best_bow_features] >= cutoff))\n",
        "best_bow_feature_names = bow_vectorizer.get_feature_names_out()[best_bow_features[0:last_bow_feature]]\n",
        "\n",
        "print(\"top bag of words features\")\n",
        "for temp1, temp2 in zip(A[best_bow_features[0:21]] , best_bow_feature_names[0:21]):\n",
        "  print(temp1, temp2)\n",
        "\n",
        "train_bow_features= train_bow_features[:,best_bow_features[0:last_bow_feature]]\n",
        "test_bow_features = test_bow_features[:,best_bow_features[0:last_bow_feature]]\n",
        "valid_bow_features = valid_bow_features[:,best_bow_features[0:last_bow_feature]]\n",
        "all_bow_features   = all_bow_features[:,best_bow_features[0:last_bow_feature]]\n",
        "\n",
        "# filter tfidf features\n",
        "[A,B] = ttest2(train_tfidf_features , y_train)\n",
        "best_tfidf_features = np.argsort(B, axis=-1, kind=None, order=None)\n",
        "last_tfidf_feature  = np.min(np.argwhere(B[best_tfidf_features] > cutoff))\n",
        "best_tfidf_feature_names = tfidf_vectorizer.get_feature_names_out()[best_tfidf_features[0:last_tfidf_feature]]\n",
        "\n",
        "train_tfidf_features= train_tfidf_features[:,best_tfidf_features[0:last_tfidf_feature]]\n",
        "test_tfidf_features = test_tfidf_features[:,best_tfidf_features[0:last_tfidf_feature]]\n",
        "valid_tfidf_features = valid_tfidf_features[:,best_tfidf_features[0:last_tfidf_feature]]\n",
        "all_tfidf_features   = all_tfidf_features[:,best_tfidf_features[0:last_tfidf_feature]]\n",
        "\n",
        "print(\"top tfidf features\")\n",
        "for temp1, temp2 in zip(A[best_tfidf_features[0:21]] , best_tfidf_feature_names[0:21]):\n",
        "  print(temp1, temp2)"
      ],
      "metadata": {
        "id": "07ktlt3mJnCT",
        "colab": {
          "base_uri": "https://localhost:8080/"
        },
        "outputId": "de713ace-c58c-4f1a-8772-7372ae6564bb"
      },
      "execution_count": null,
      "outputs": [
        {
          "output_type": "stream",
          "name": "stdout",
          "text": [
            "top bag of words features\n",
            "29.84823731094551 be\n",
            "26.83771370728371 please\n",
            "24.477182481135024 would\n",
            "24.277129097207578 should\n",
            "24.04109159453123 would be\n",
            "23.744243274558357 it would be\n",
            "23.028961778924728 it would\n",
            "19.647209708601522 add\n",
            "17.91422174105728 should be\n",
            "16.341188180608427 to\n",
            "15.684943328100735 be nice\n",
            "15.107936555960004 allow\n",
            "14.829530810372402 would be nice\n",
            "14.561731461492071 be great\n",
            "14.261383265436097 would like\n",
            "14.213066453660174 like\n",
            "13.949114539147656 could\n",
            "13.878409913159958 like to\n",
            "13.60842887725592 nice\n",
            "13.225095456619743 please add\n",
            "13.151128026483732 would be great\n",
            "top tfidf features\n",
            "26.860273305594365 be\n",
            "23.341397329294534 should\n",
            "22.972202109103893 it would be\n",
            "22.599648508804396 please\n",
            "21.663924479147987 it would\n",
            "20.85548177338402 would be\n",
            "20.704967010442438 would\n",
            "19.145279434238937 add\n",
            "17.074184741542684 should be\n",
            "16.188344780708565 to\n",
            "14.949655022078138 allow\n",
            "14.896112496339999 be nice\n",
            "14.126907397595398 would be nice\n",
            "13.851169888779989 would like\n",
            "-13.49532185795253 is\n",
            "13.475972787179044 nice\n",
            "13.445771372600184 like to\n",
            "13.255468517977672 be great\n",
            "12.770161228554903 be able\n",
            "12.550669922696272 it would be great\n",
            "12.537546075414795 please add\n"
          ]
        }
      ]
    },
    {
      "cell_type": "code",
      "source": [
        "import os\n",
        "\n",
        "# print output to the console\n",
        "print(os.getcwd())\n",
        "#os.chdir('c:/users/mmr')\n",
        "print(os.getcwd())\n"
      ],
      "metadata": {
        "id": "pFObKJipx1PS",
        "colab": {
          "base_uri": "https://localhost:8080/"
        },
        "outputId": "3b49154c-f6c3-4c43-886b-c4ec795ad60f"
      },
      "execution_count": null,
      "outputs": [
        {
          "output_type": "stream",
          "name": "stdout",
          "text": [
            "C:\\Users\\mmr\n",
            "C:\\Users\\mmr\n"
          ]
        }
      ]
    },
    {
      "cell_type": "code",
      "source": [
        "print(f\"Top 10 bow features{best_bow_feature_names[0:10]}\")\n",
        "print(f\"Top 10 tfidf features{best_tfidf_feature_names[0:10]}\")\n",
        "#results_df.to_csv(f\"labels_{start_time_str}.csv\")"
      ],
      "metadata": {
        "id": "wUGUdvdfh9Uz",
        "colab": {
          "base_uri": "https://localhost:8080/"
        },
        "outputId": "d5791641-2f6a-4682-fed1-43e734d45235"
      },
      "execution_count": null,
      "outputs": [
        {
          "output_type": "stream",
          "name": "stdout",
          "text": [
            "Top 10 bow features['be' 'please' 'would' 'should' 'would be' 'it would be' 'it would' 'add'\n",
            " 'should be' 'to']\n",
            "Top 10 tfidf features['be' 'should' 'it would be' 'please' 'it would' 'would be' 'would' 'add'\n",
            " 'should be' 'to']\n"
          ]
        }
      ]
    },
    {
      "cell_type": "markdown",
      "metadata": {
        "id": "srQ0TELENoKf"
      },
      "source": [
        "# Experiments\n",
        "\n"
      ]
    },
    {
      "cell_type": "markdown",
      "metadata": {
        "id": "ZzpAtHXe5qsC"
      },
      "source": [
        "## Utility Functions\n"
      ]
    },
    {
      "cell_type": "markdown",
      "metadata": {
        "id": "b8KPz9KChLrA"
      },
      "source": [
        "**Experimental Setup**"
      ]
    },
    {
      "cell_type": "code",
      "execution_count": null,
      "metadata": {
        "id": "W7M08KHYgBc5",
        "colab": {
          "base_uri": "https://localhost:8080/"
        },
        "outputId": "f968ff60-251e-4102-e0be-c87b10698ccc"
      },
      "outputs": [
        {
          "output_type": "stream",
          "name": "stdout",
          "text": [
            "tfidf\n"
          ]
        }
      ],
      "source": [
        " #select options here and run classifiers as you like:\n",
        "\n",
        " current_options = select_optional_features(feature_group = 'tfidf',\n",
        "                 op_scale_features  = False,\n",
        "                 op_upsample_smote  = False,\n",
        "                 op_upsample_over   = False,\n",
        "                 op_transform_pca   = False ,\n",
        "                 op_downsample_majority = False,\n",
        "\n",
        "                                            )\n",
        "\n",
        " print(current_options)"
      ]
    },
    {
      "cell_type": "markdown",
      "source": [
        "##Rule Based Methods##\n",
        "\n",
        "This section contains several rule based methods."
      ],
      "metadata": {
        "id": "MEBPxuRbgF3F"
      }
    },
    {
      "cell_type": "code",
      "source": [
        "keyword_group = 'human'\n",
        "keyword_count = 20\n",
        "human_keywords = [\"should\", \"could\", \"might\", \"ought to\", \"would\", \"recommend\",\n",
        "                       \"suggest\", \"consider\", \"better\", \"allow\", \"would you mind\",\n",
        "                       \"could you please\", \"I suggest\", \"please\", \"if you want to\",\n",
        "                       \"be able to\", \"it would be\"]\n",
        "\n",
        "if keyword_group =='human':\n",
        "  suggestion_keywords = human_keywords\n",
        "\n",
        "elif keyword_group =='bow':\n",
        "  suggestion_keywords = best_bow_feature_names.tolist()\n",
        "\n",
        "elif keyword_group == 'tfidf':\n",
        "  suggestion_keywords = best_tfidf_feature_names.tolist()\n",
        "\n",
        "if keyword_count >0 :\n",
        "  suggestion_keywords = suggestion_keywords[0:min(keyword_count, len(suggestion_keywords))]\n",
        "\n",
        "def contains_suggestion(paragraph):\n",
        "    for keyword in suggestion_keywords:\n",
        "        if keyword in paragraph.lower():\n",
        "            return True\n",
        "    return False\n",
        "\n",
        "def classify_paragraphs(paragraphs):\n",
        "    y_pred = []\n",
        "    for paragraph in paragraphs:\n",
        "        if contains_suggestion(paragraph):\n",
        "            y_pred.append(1)\n",
        "        else:\n",
        "            y_pred.append(0)\n",
        "    return y_pred\n",
        "\n",
        "\n",
        "y_pred = classify_paragraphs(test_df['sentence'])\n",
        "print_results(y_test, y_pred, f\"keywords: {keyword_group}, count: {len(suggestion_keywords)}\" )"
      ],
      "metadata": {
        "id": "kq0dRjOaPM3o",
        "colab": {
          "base_uri": "https://localhost:8080/"
        },
        "outputId": "609b036b-9a96-445e-ee16-61f80e6193ae"
      },
      "execution_count": null,
      "outputs": [
        {
          "output_type": "stream",
          "name": "stdout",
          "text": [
            "keywords: human, count: 17,\tAccuracy=0.87,\tC0: Pr=0.97, Re=0.89, F1=0.93,\tC1: Pr=0.44, Re=0.76, F1=0.56\n"
          ]
        }
      ]
    },
    {
      "cell_type": "markdown",
      "metadata": {
        "id": "ypMLOuIfkaoB"
      },
      "source": [
        "**Basic Methods**"
      ]
    },
    {
      "cell_type": "code",
      "source": [
        "from sklearn.model_selection import train_test_split\n",
        "from sklearn.feature_extraction.text import TfidfVectorizer\n",
        "from sklearn.naive_bayes import MultinomialNB\n",
        "from sklearn.linear_model import BayesianRidge\n",
        "from sklearn.svm import SVC\n",
        "from sklearn.metrics import classification_report, accuracy_score\n",
        "import pandas as pd\n",
        "\n",
        "from sklearn.preprocessing import MinMaxScaler\n",
        "\n",
        "# Create MinMaxScaler instance with feature_range=(0, 10)\n",
        "scaler = MinMaxScaler(feature_range=(10, 20))\n",
        "\n",
        "# Fit the scaler to your data\n",
        "scaler.fit(X_all)\n",
        "\n",
        "# Transform your data\n",
        "X1 = scaler.transform(X_train_val)\n",
        "X2 = scaler.transform(X_test)\n",
        "\n",
        "# Naive Bayes classifier\n",
        "nb_classifier = MultinomialNB()\n",
        "nb_classifier.fit(X1, y_train_val)\n",
        "nb_predictions = nb_classifier.predict(X2)\n",
        "\n",
        "# Bayesian classifier\n",
        "bayesian_classifier = BayesianRidge()\n",
        "bayesian_classifier.fit(X1, y_train_val)\n",
        "bayesian_predictions = bayesian_classifier.predict(X2)\n",
        "\n",
        "\n",
        "# Evaluation\n",
        "print_results(y_test , nb_predictions >=0.5, 'Naive Bayes, '+ current_options)\n",
        "print_results(y_test , bayesian_predictions>=0.5, 'BayesianRidge, '+ current_options)\n",
        "\n"
      ],
      "metadata": {
        "id": "EIeAyjlbUl1B",
        "colab": {
          "base_uri": "https://localhost:8080/"
        },
        "outputId": "8668bf4b-d4f8-4934-fe55-ea656ffb7c09"
      },
      "execution_count": null,
      "outputs": [
        {
          "output_type": "stream",
          "name": "stdout",
          "text": [
            "Naive Bayes, tfidf,\tAccuracy=0.90,\tC0: Pr=0.90, Re=1.00, F1=0.95,\tC1: Pr=0.57, Re=0.05, F1=0.09\n",
            "BayesianRidge, tfidf,\tAccuracy=0.91,\tC0: Pr=0.95, Re=0.94, F1=0.95,\tC1: Pr=0.54, Re=0.57, F1=0.56\n"
          ]
        }
      ]
    },
    {
      "cell_type": "code",
      "execution_count": null,
      "metadata": {
        "id": "uLzrQpgakgHf",
        "colab": {
          "base_uri": "https://localhost:8080/"
        },
        "outputId": "05c6bd00-c9bb-4822-c720-fd7b78d8e9f7"
      },
      "outputs": [
        {
          "output_type": "stream",
          "name": "stdout",
          "text": [
            "basic K-Nearest Neighbors, tfidf,\tAccuracy=0.91,\tC0: Pr=0.92, Re=0.98, F1=0.95,\tC1: Pr=0.67, Re=0.28, F1=0.39\n",
            "something went wrong cannot insert basic K-Nearest Neighbors, tfidf, already exists\n",
            "basic Linear Discrimination Analysis, tfidf,\tAccuracy=0.80,\tC0: Pr=0.95, Re=0.83, F1=0.88,\tC1: Pr=0.29, Re=0.60, F1=0.39\n",
            "basic Logistic Regression, tfidf,\tAccuracy=0.92,\tC0: Pr=0.94, Re=0.98, F1=0.96,\tC1: Pr=0.67, Re=0.43, F1=0.52\n",
            "basic Support Vector Machine-L, tfidf,\tAccuracy=0.92,\tC0: Pr=0.95, Re=0.97, F1=0.96,\tC1: Pr=0.65, Re=0.55, F1=0.60\n",
            "basic Support Vector Machine-R, tfidf,\tAccuracy=0.87,\tC0: Pr=0.95, Re=0.91, F1=0.93,\tC1: Pr=0.41, Re=0.55, F1=0.47\n",
            "basic Support Vector Machine-S, tfidf,\tAccuracy=0.91,\tC0: Pr=0.96, Re=0.94, F1=0.95,\tC1: Pr=0.55, Re=0.62, F1=0.58\n",
            "basic Support Vector Machine-WL, tfidf,\tAccuracy=0.81,\tC0: Pr=0.98, Re=0.80, F1=0.88,\tC1: Pr=0.35, Re=0.89, F1=0.50\n",
            "basic Support Vector Machine-WR, tfidf,\tAccuracy=0.85,\tC0: Pr=0.97, Re=0.86, F1=0.91,\tC1: Pr=0.38, Re=0.76, F1=0.51\n",
            "basic Support Vector Machine-WS, tfidf,\tAccuracy=0.76,\tC0: Pr=0.99, Re=0.74, F1=0.85,\tC1: Pr=0.29, Re=0.91, F1=0.44\n",
            "basic Decision Tree classifier, tfidf,\tAccuracy=0.89,\tC0: Pr=0.95, Re=0.93, F1=0.94,\tC1: Pr=0.49, Re=0.57, F1=0.53\n"
          ]
        }
      ],
      "source": [
        "#Some Useful classifiers\n",
        "def test_basic_models(X1,y1,X2,y2, description):\n",
        "  classifiers = {\n",
        "      'K-Nearest Neighbors': KNeighborsClassifier(n_neighbors=21, metric=\"cosine\"),\n",
        "      'Linear Discrimination Analysis':LinearDiscriminantAnalysis(),\n",
        "      'Logistic Regression': sklearn.linear_model.LogisticRegression(random_state=42),\n",
        "      'Support Vector Machine-L': sklearn.svm.SVC(kernel='linear', random_state=42),\n",
        "      'Support Vector Machine-R': sklearn.svm.SVC(kernel='rbf', random_state=42),\n",
        "      'Support Vector Machine-S': sklearn.svm.SVC(kernel='sigmoid', random_state=42),\n",
        "      'Support Vector Machine-WL': sklearn.svm.SVC(kernel=\"linear\", class_weight={1: 10}, random_state=42),\n",
        "      'Support Vector Machine-WR': sklearn.svm.SVC(kernel=\"rbf\", class_weight={1: 10}, random_state=42),\n",
        "      'Support Vector Machine-WS': sklearn.svm.SVC(kernel=\"sigmoid\", class_weight={1: 10}, random_state=42),\n",
        "      'Decision Tree classifier': DecisionTreeClassifier(max_depth=15, random_state=42),\n",
        "  }\n",
        "\n",
        "  # Loop through each classifier and evaluate performance\n",
        "  for name, clf in classifiers.items():\n",
        "      clf.fit(X1, y1)\n",
        "      y_pred = clf.predict(X2)\n",
        "      print_results(y2 , y_pred, 'basic ' + name + ', '+ description)\n",
        "#---------------------\n",
        "test_basic_models (X_train_val , y_train_val , X_test , y_test, current_options)\n"
      ]
    },
    {
      "cell_type": "markdown",
      "metadata": {
        "id": "YdGv3RxdMA5r"
      },
      "source": [
        "**Ensemble Models**\n",
        "\n",
        "This experiment trains well-known ensemble methods on the dataset.\n",
        "\n",
        "\n",
        "\n",
        "\n",
        "\n"
      ]
    },
    {
      "cell_type": "code",
      "execution_count": null,
      "metadata": {
        "id": "z0xQuTCmMCAp"
      },
      "outputs": [],
      "source": [
        "import numpy as np\n",
        "import pandas as pd\n",
        "from sklearn.datasets import make_classification\n",
        "from sklearn.model_selection import train_test_split\n",
        "from sklearn.ensemble import RandomForestClassifier, AdaBoostClassifier, GradientBoostingClassifier, ExtraTreesClassifier\n",
        "from lightgbm import LGBMClassifier\n",
        "from catboost import CatBoostClassifier\n",
        "from sklearn.metrics import accuracy_score\n",
        "\n",
        "def test_ensemble_models(X1,y1,X2,y2, description):\n",
        "  # Initialize classifiers\n",
        "  classifiers = {\n",
        "      \"Random Forest\"     : RandomForestClassifier(n_estimators=101,class_weight={0:1,1:10}, n_jobs=-1, random_state=42),\n",
        "      \"AdaBoost\"          : AdaBoostClassifier(n_estimators=101, random_state=42),\n",
        "      \"Gradient Boosting\" : GradientBoostingClassifier(n_estimators=101, random_state=42),\n",
        "      \"Extra Trees\"       : ExtraTreesClassifier(n_estimators=101, random_state=42),\n",
        "      \"LightGBM\"          : LGBMClassifier(n_estimators=101, random_state=42),\n",
        "      \"CatBoost\"          : CatBoostClassifier(n_estimators=101, random_state=42)\n",
        "  }\n",
        "\n",
        "  # Loop through each classifier and evaluate performance\n",
        "  for name, clf in classifiers.items():\n",
        "      clf.fit(X1, y1)\n",
        "      y_pred = clf.predict(X2)\n",
        "      print_results(y2 , y_pred, 'Ensemble, ' + name + ', ' + description)\n",
        "\n",
        "\n",
        "# Train and evaluate ensemble models\n",
        "test_ensemble_models (X_train_val , y_train_val , X_test , y_test, current_options)\n",
        "\n"
      ]
    },
    {
      "cell_type": "markdown",
      "metadata": {
        "id": "KHxOrXSPovV0"
      },
      "source": [
        "**Neural Networks**\n",
        "\n",
        "This network is trained on the training and validation sets and\n",
        "tested on the testing set"
      ]
    },
    {
      "cell_type": "markdown",
      "source": [
        "**MLP Neural Networks**"
      ],
      "metadata": {
        "id": "X1vSzn0vw47q"
      }
    },
    {
      "cell_type": "code",
      "source": [
        "#simple mlp neural networks\n",
        "mlp_classifier1 = MLPClassifier(hidden_layer_sizes=(50,25,20,10,5),\n",
        "                           max_iter=100,activation = 'relu',\n",
        "                           solver='adam',random_state=100).fit(train_d2v_features[0:y_train_val.shape[0],:], y_train)\n",
        "\n",
        "y_pred = mlp_classifier1.predict(all_d2v_features)\n",
        "print(confusion_matrix(y_all,y_pred))\n",
        "print(classification_report(y_all,y_pred))\n",
        "print_results(y_all , y_pred , 'MLP_Basic1_alldata(d2v)))\n",
        "\n",
        "\n",
        "y_pred = mlp_classifier1.predict(test_d2v_features)\n",
        "print(confusion_matrix(y_test,y_pred))\n",
        "print(classification_report(y_test,y_pred))\n",
        "print_results(y_test , y_pred , 'MLP_Basic1(d2v)')\n",
        "\n",
        "\n",
        "mlp_classifier2 = MLPClassifier(hidden_layer_sizes=(50,25,20,10,5),\n",
        "                           max_iter=100,activation = 'relu',\n",
        "                           solver='adam',random_state=100).fit(X_train_val, y_train_val)\n",
        "\n",
        "y_pred = mlp_classifier2.predict(X_all)\n",
        "print(confusion_matrix(y_all,y_pred))\n",
        "print(classification_report(y_all,y_pred))\n",
        "print_results(y_all , y_pred , 'MLP_Basic_2_all_data')\n",
        "\n",
        "\n",
        "y_pred = mlp_classifier2.predict(X_test)\n",
        "print(confusion_matrix(y_test,y_pred))\n",
        "print(classification_report(y_test,y_pred))\n",
        "print_results(y_test , y_pred , 'MLP_Basic_2')\n",
        "\n",
        "#Third MLP classifier\n",
        "mlp_classifier3 = MLPClassifier(hidden_layer_sizes=(150,100,50),\n",
        "                           max_iter=100,activation = 'relu',\n",
        "                           solver='adam',random_state=100).fit(X_train_val, y_train_val)\n",
        "\n",
        "y_pred = mlp_classifier3.predict(X_test)\n",
        "print(confusion_matrix(y_test,y_pred))\n",
        "print(classification_report(y_test,y_pred))\n",
        "\n",
        "mlp_classifier3.fit(X_train,y_train); plt.plot(mlp_classifier3.loss_curve_,label=\"train\")\n",
        "mlp_classifier3.fit(X_valid,y_valid); plt.plot(mlp_classifier3.loss_curve_,label=\"validation\")\n",
        "mlp_classifier3.fit(X_test,y_test); plt.plot(mlp_classifier3.loss_curve_,label=\"test\")\n",
        "\n",
        "plt.xlabel(\"Iteration\")\n",
        "plt.ylabel(\"Misclassification Rate/Loss\");\n",
        "plt.legend(loc='upper right')\n",
        "plt.title('mlp-tfidf-training')\n",
        "plt.show()"
      ],
      "metadata": {
        "id": "rH5DSOIj2w6M",
        "colab": {
          "base_uri": "https://localhost:8080/",
          "height": 752
        },
        "outputId": "2c7ce0ad-822c-49e5-d790-78c9021f1914"
      },
      "execution_count": null,
      "outputs": [
        {
          "output_type": "stream",
          "name": "stdout",
          "text": [
            "[[663  83]\n",
            " [ 31  56]]\n",
            "              precision    recall  f1-score   support\n",
            "\n",
            "           0       0.96      0.89      0.92       746\n",
            "           1       0.40      0.64      0.50        87\n",
            "\n",
            "    accuracy                           0.86       833\n",
            "   macro avg       0.68      0.77      0.71       833\n",
            "weighted avg       0.90      0.86      0.88       833\n",
            "\n"
          ]
        },
        {
          "output_type": "stream",
          "name": "stderr",
          "text": [
            "c:\\python\\python38\\lib\\site-packages\\sklearn\\neural_network\\_multilayer_perceptron.py:691: ConvergenceWarning: Stochastic Optimizer: Maximum iterations (100) reached and the optimization hasn't converged yet.\n",
            "  warnings.warn(\n",
            "c:\\python\\python38\\lib\\site-packages\\sklearn\\neural_network\\_multilayer_perceptron.py:691: ConvergenceWarning: Stochastic Optimizer: Maximum iterations (100) reached and the optimization hasn't converged yet.\n",
            "  warnings.warn(\n"
          ]
        },
        {
          "output_type": "display_data",
          "data": {
            "text/plain": [
              "<Figure size 640x480 with 1 Axes>"
            ],
            "image/png": "[encoded data removed]"
          },
          "metadata": {}
        }
      ]
    },
    {
      "cell_type": "code",
      "source": [
        "#init cuda usage\n",
        "import torch\n",
        "import torch.nn as nn\n",
        "import torch.optim as optim\n",
        "from torch.utils.data import DataLoader, TensorDataset\n",
        "from datetime import datetime\n",
        "if torch.cuda.is_available():\n",
        " dev = \"cuda:0\"\n",
        "else:\n",
        " dev = \"cpu\"\n",
        "device = torch.device(dev)\n",
        "print(device)\n"
      ],
      "metadata": {
        "id": "6J5T6Ahtv0zy",
        "colab": {
          "base_uri": "https://localhost:8080/"
        },
        "outputId": "a48fd9bd-b369-44ae-fc6d-348a2347f052"
      },
      "execution_count": null,
      "outputs": [
        {
          "output_type": "stream",
          "name": "stdout",
          "text": [
            "cuda:0\n"
          ]
        }
      ]
    },
    {
      "cell_type": "code",
      "source": [
        "import torch\n",
        "import torch.nn as nn\n",
        "import torch.optim as optim\n",
        "from torch.utils.data import DataLoader, TensorDataset\n",
        "from datetime import datetime\n",
        "\n",
        "class MLPModel(nn.Module):\n",
        "    def __init__(self, input_size, hidden_sizes):\n",
        "        super(MLPModel, self).__init__()\n",
        "        self.layers = nn.ModuleList()\n",
        "\n",
        "        # Input layer\n",
        "        self.layers.append(nn.Linear(input_size, hidden_sizes[0]))\n",
        "        self.layers.append(nn.BatchNorm1d(hidden_sizes[0]))\n",
        "        self.layers.append(nn.Tanh())\n",
        "        self.layers.append(nn.Dropout(0.2))\n",
        "\n",
        "        # Hidden layers\n",
        "        for i in range(1, len(hidden_sizes)):\n",
        "            self.layers.append(nn.Linear(hidden_sizes[i - 1], hidden_sizes[i]))\n",
        "            self.layers.append(nn.BatchNorm1d(hidden_sizes[i]))\n",
        "            self.layers.append(nn.ReLU())\n",
        "            self.layers.append(nn.Dropout(0.2))\n",
        "\n",
        "        # Output layer\n",
        "        self.layers.append(nn.Linear(hidden_sizes[-1], 1))\n",
        "        self.layers.append(nn.Sigmoid())\n",
        "\n",
        "    def forward(self, x):\n",
        "        for layer in self.layers:\n",
        "            x = layer(x)\n",
        "        return x\n",
        "\n",
        "#build and train model\n",
        "input_size = X_train_val.shape[1]  # Adjust this based on your input features\n",
        "hidden_sizes = [500, 250, 100, 50]\n",
        "\n",
        "# Instantiate the model_mlp\n",
        "model_mlp = MLPModel(input_size, hidden_sizes)\n",
        "model_mlp.to(device)\n",
        "\n",
        "# Loss and optimizer\n",
        "criterion = nn.BCELoss()  #nn.BCEWithLogitsLoss() #nn.CrossEntropyLoss() #nn.MSELoss() #nn.KLDivLoss() # nn.BCELoss()\n",
        "optimizer = optim.Adam(model_mlp.parameters(), lr=0.001)\n",
        "\n",
        "data_X = torch.Tensor(X_train_val).to(device)\n",
        "data_y = torch.Tensor(y_train_val).view(-1, 1).to(device)\n",
        "\n",
        "# Create DataLoader for the dataset\n",
        "dataset = TensorDataset(data_X, data_y)\n",
        "dataloader = DataLoader(dataset, batch_size=64, shuffle=True)\n",
        "\n",
        "# Training loop\n",
        "top_n      = 10 # top n better models\n",
        "num_epochs = 250\n",
        "losses     = [10000]* top_n\n",
        "# Get the current date and time\n",
        "current_datetime_str = f\"{datetime.now().strftime('%Y-%m-%d_%H-%M-%S')}\"\n",
        "\n",
        "model_mlp.train()\n",
        "for epoch in range(num_epochs):\n",
        "    total_loss = 0\n",
        "    for inputs, labels in dataloader:\n",
        "        optimizer.zero_grad()\n",
        "        outputs = model_mlp(inputs)\n",
        "        loss = criterion(outputs, labels)\n",
        "        loss.backward()\n",
        "        optimizer.step()\n",
        "        total_loss += loss.item()\n",
        "    print(f'Epoch [{epoch+1}/{num_epochs}], Loss: {total_loss:.4f}')\n",
        "    # Save better models:\n",
        "    cur_loss = total_loss\n",
        "    for k in range(len(losses)):\n",
        "        if cur_loss < losses[k]:\n",
        "            losses[k] = cur_loss\n",
        "            if k < top_n:\n",
        "                model_file_name = f\"mlp_model_best_{k:02d}_{current_datetime_str}.pth\"\n",
        "                torch.save(model_mlp.state_dict(), model_file_name)\n",
        "                #print(losses)\n",
        "                break\n",
        "\n",
        "\n",
        "#save the last model_mlp\n",
        "print(losses)\n",
        "model_file_name = f\"mlp_model_last_{current_datetime_str}.pth\"\n",
        "torch.save(model_mlp, model_file_name)\n",
        "\n",
        "#------------------------------------------\n",
        "# Lets get training accuracy\n",
        "# Set the model_mlp to evaluation mode and evaluate it on train data:\n",
        "model_mlp.eval()\n",
        "with torch.no_grad():\n",
        "  #Training accuracy\n",
        "  predictions = model_mlp(torch.Tensor(X_train_val).to(device))\n",
        "  predictions[predictions >= 0.5]  = 1\n",
        "  predictions[predictions <  0.5]  = 0\n",
        "  print_results(y_train_val , predictions.cpu(), 'MLP_torch_train, ' + current_options)\n",
        "\n",
        "  # Test accuracy\n",
        "  predictions = model_mlp(torch.Tensor(X_test).to(device))\n",
        "  predictions[predictions >= 0.5]  = 1\n",
        "  predictions[predictions <  0.5]  = 0\n",
        "  print_results(y_test , predictions.cpu(), 'MLP_torch_test, ' + current_options)\n",
        "\n",
        "#print the model\n",
        "print(model_mlp)"
      ],
      "metadata": {
        "id": "mjhGuKclSinl"
      },
      "execution_count": null,
      "outputs": []
    },
    {
      "cell_type": "markdown",
      "source": [
        "**CNN Network for Classification**"
      ],
      "metadata": {
        "id": "YuIuZSBd2y85"
      }
    },
    {
      "cell_type": "code",
      "source": [
        "from sklearn.preprocessing import LabelEncoder\n",
        "from torchtext.vocab import build_vocab_from_iterator\n",
        "from collections import Counter\n",
        "from torchtext.data.utils import get_tokenizer\n",
        "from torchtext.vocab import build_vocab_from_iterator\n",
        "from collections import Counter\n",
        "import torch\n",
        "import torch.nn as nn\n",
        "import torch.optim as optim\n",
        "from torch.utils.data import DataLoader, TensorDataset\n",
        "from sklearn.model_selection import train_test_split\n",
        "from sklearn.preprocessing import LabelEncoder\n",
        "from torchvision.transforms import Lambda\n",
        "from torch.nn.functional import softmax , relu, tanh\n",
        "from torch.nn.functional import sigmoid\n",
        "from torchtext.data.utils import get_tokenizer\n",
        "from torchtext.vocab import build_vocab_from_iterator\n",
        "from collections import Counter\n",
        "\n",
        "class TextCNN(nn.Module):\n",
        "    def __init__(self, vocab_size, embedding_dim, num_filters, filter_sizes, num_classes, dropout_rate=0.5):\n",
        "        super(TextCNN, self).__init__()\n",
        "        self.embedding = nn.Embedding(vocab_size, embedding_dim)\n",
        "        self.conv_layers = nn.ModuleList([\n",
        "            nn.Conv1d(in_channels=embedding_dim, out_channels=num_filters, kernel_size=fs)\n",
        "            for fs in filter_sizes\n",
        "        ])\n",
        "        self.dropout = nn.Dropout(dropout_rate)\n",
        "        self.fc1 = nn.Linear(num_filters * len(filter_sizes), 64)\n",
        "        self.fc = nn.Linear(64, num_classes)\n",
        "\n",
        "    def forward(self, inputs):\n",
        "        x = self.embedding(inputs).permute(0, 2, 1)  # Permute to (batch_size, embedding_dim, sequence_length)\n",
        "        conv_outputs = [conv(x) for conv in self.conv_layers]\n",
        "        pooled_outputs = [torch.max(conv_output, dim=2)[0] for conv_output in conv_outputs]\n",
        "        concatenated = torch.cat(pooled_outputs, dim=1)\n",
        "        concatenated = self.dropout(concatenated)\n",
        "        output1      = self.fc1(concatenated)\n",
        "        output1      = tanh(output1)\n",
        "        output = self.fc(output1)\n",
        "        return softmax(output, dim=1)\n",
        "\n",
        "\n",
        "\n",
        "#deter mine maximum sequence length\n",
        "max_seq_length = 64\n",
        "\n",
        "#Preprocess data\n",
        "tokenizer = get_tokenizer('basic_english')\n",
        "counter = Counter()\n",
        "for line in all_df['sentence']:\n",
        "    counter.update(tokenizer(line))\n",
        "vocab = build_vocab_from_iterator([tokenizer(line) for line in all_df['sentence']], specials=['<unk>', '<pad>'])\n",
        "vocab.set_default_index(vocab['<unk>'])\n",
        "\n",
        "# Convert labels to one-hot encoding\n",
        "label_encoder = LabelEncoder()\n",
        "x_data = []\n",
        "y_data = label_encoder.fit_transform(all_df['label'])\n",
        "for line in all_df['sentence']:\n",
        "    seq_line = torch.tensor([vocab[token] for token in tokenizer(line)])\n",
        "    if len(seq_line > max_seq_length ): #truncate longer sequences\n",
        "      seq_line = seq_line[0:max_seq_length]\n",
        "    x_data.append(seq_line)\n",
        "\n",
        "# Pad sequences and convert to tensors\n",
        "x_data = nn.utils.rnn.pad_sequence(x_data, batch_first=True).to(device)\n",
        "y_data = torch.tensor(y_data).to(device)\n",
        "\n",
        "# Split data into train/validation sets\n",
        "x_data_train = x_data[0:len(y_train_val),:] ; y_data_train = y_data[0:len(y_train_val)]\n",
        "x_data_val = x_data[len(y_train_val):,:] ; y_data_val = y_data[len(y_train_val):]\n",
        "\n",
        "# Example: Instantiate the TextCNN model\n",
        "embedding_dim = 100\n",
        "num_filters = 32\n",
        "filter_sizes = [3, 5, 7]\n",
        "num_classes = 2\n",
        "dropout_rate = 0.5\n",
        "\n",
        "model_cnn = TextCNN(vocab_size=len(vocab),\n",
        "                embedding_dim=embedding_dim,\n",
        "                num_filters=num_filters,\n",
        "                filter_sizes=filter_sizes,\n",
        "                num_classes=num_classes,\n",
        "                dropout_rate=dropout_rate).to(device)\n",
        "\n",
        "#Define loss function and optimizer\n",
        "criterion = torch.nn.MSELoss()\n",
        "optimizer = optim.Adam(model_cnn.parameters())\n",
        "\n",
        "# Example: Train the model\n",
        "model_cnn.to(device)\n",
        "batch_size = 64\n",
        "epochs = 250\n",
        "model_cnn.train()\n",
        "for epoch in range(epochs):\n",
        "    acc_loss = 0\n",
        "    for i in range(0, len(x_data_train), batch_size):\n",
        "        optimizer.zero_grad()\n",
        "        batch_x, batch_y = x_data_train[i:i+batch_size,:], y_data_train[i:i+batch_size]\n",
        "        outputs = model_cnn(batch_x)\n",
        "        #print(outputs[:,1] , batch_y)\n",
        "        loss = criterion(batch_y.float(), outputs[:,1]) +  criterion(torch.add(-batch_y.float(),1), outputs[:,0])\n",
        "\n",
        "        loss.backward()\n",
        "        optimizer.step()\n",
        "        acc_loss += loss.item()\n",
        "\n",
        "    #print accumumlated epoch loss\n",
        "    print(f'Epoch {epoch+1}/{epochs}\\tLoss: {acc_loss:.4f}')\n",
        "\n",
        "# Example: Evaluate the model on validation data\n",
        "model_cnn.eval()\n",
        "with torch.no_grad():\n",
        "    outputs = model_cnn(x_data_val)\n",
        "    _, predicted = torch.max(outputs, 1)\n",
        "    correct = (predicted == y_data_val).sum().item()\n",
        "    accuracy = correct / len(y_data_val)\n",
        "    print(f'Validation Accuracy: {accuracy:.4f}')\n",
        "    print_results(y_data_val.cpu(),predicted.cpu() , f'Text CNN, {max_seq_length}')"
      ],
      "metadata": {
        "id": "YKeKBAFafCn4"
      },
      "execution_count": null,
      "outputs": []
    },
    {
      "cell_type": "markdown",
      "source": [
        "**BiLSTM for Classification**"
      ],
      "metadata": {
        "id": "QD-jzbbi28Jy"
      }
    },
    {
      "cell_type": "code",
      "source": [
        "import torch\n",
        "import torch.nn as nn\n",
        "import torch.optim as optim\n",
        "from torch.utils.data import DataLoader, TensorDataset\n",
        "from sklearn.model_selection import train_test_split\n",
        "from sklearn.feature_extraction.text import CountVectorizer\n",
        "import numpy as np\n",
        "from sklearn.preprocessing import LabelEncoder\n",
        "from torchtext.vocab import build_vocab_from_iterator\n",
        "from collections import Counter\n",
        "from torchtext.data.utils import get_tokenizer\n",
        "from torchtext.vocab import build_vocab_from_iterator\n",
        "from collections import Counter\n",
        "\n",
        "\n",
        "# Define BiLSTM model\n",
        "class BiLSTM(nn.Module):\n",
        "    def __init__(self, embedding_dim, hidden_dim, vocab_size, output_dim, dropout_rate):\n",
        "        super(BiLSTM, self).__init__()\n",
        "        self.word_embeddings = nn.Embedding(vocab_size, embedding_dim)\n",
        "\n",
        "        self.lstm = nn.LSTM(embedding_dim, hidden_dim, num_layers=2,dropout=dropout_rate, bidirectional=True, batch_first=True)\n",
        "\n",
        "        self.fc = nn.Linear(hidden_dim*2, output_dim)\n",
        "        self.dropout = nn.Dropout(dropout_rate)\n",
        "\n",
        "    def forward(self, inputs):\n",
        "        embeds      = self.word_embeddings(inputs)\n",
        "        lstm_out, _ = self.lstm(embeds)\n",
        "        output      = self.fc(lstm_out[:,-1,:])\n",
        "        return output\n",
        "\n",
        "#Convert data to sequences of equal length\n",
        "\n",
        "#determine maximum sequence length\n",
        "max_seq_length = 64\n",
        "\n",
        "#Preprocess data\n",
        "tokenizer = get_tokenizer('basic_english')\n",
        "vocab = build_vocab_from_iterator([tokenizer(line) for line in all_df['sentence']], specials=['<unk>', '<pad>'])\n",
        "vocab.set_default_index(vocab['<unk>'])\n",
        "\n",
        "# Convert labels to one-hot encoding\n",
        "label_encoder = LabelEncoder()\n",
        "x_data = []\n",
        "y_data = label_encoder.fit_transform(all_df['label'])\n",
        "for line in all_df['sentence']:\n",
        "    seq_line = torch.tensor([vocab[token] for token in tokenizer(line)])\n",
        "    if len(seq_line > max_seq_length ): #truncate longer sequences\n",
        "      seq_line = seq_line[0:max_seq_length]\n",
        "    x_data.append(seq_line)\n",
        "\n",
        "# Pad sequences and convert to tensors\n",
        "x_data = nn.utils.rnn.pad_sequence(x_data, batch_first=True).to(device)\n",
        "y_data = torch.tensor(y_data).to(device)\n",
        "\n",
        "# Split data into train/validation sets\n",
        "x_data_train = x_data[0:len(y_train_val),:]; y_data_train  = y_data[0:len(y_train_val)]\n",
        "x_data_val   = x_data[len(y_train_val):,:];  y_data_val    = y_data[len(y_train_val):]\n",
        "\n",
        "# Define model parameters\n",
        "input_dim = x_data.shape[1]\n",
        "embedding_dim = 100\n",
        "hidden_dim = 50\n",
        "output_dim = 2  # Assuming binary classification\n",
        "dropout = 0.5\n",
        "\n",
        "\n",
        "\n",
        "# Initialize model, loss function, and optimizer\n",
        "model_lstm = BiLSTM(vocab_size = len(vocab),\n",
        "               embedding_dim=embedding_dim,\n",
        "               hidden_dim=hidden_dim,\n",
        "               output_dim=2,\n",
        "               dropout_rate=dropout)\n",
        "\n",
        "model_lstm.to(device)\n",
        "criterion = torch.nn.MSELoss()\n",
        "optimizer = optim.Adam(model_lstm.parameters())\n",
        "\n",
        "# Example: Train the model\n",
        "batch_size = 32\n",
        "epochs = 100\n",
        "model_lstm.train()\n",
        "for epoch in range(epochs):\n",
        "    acc_loss = 0\n",
        "    for i in range(0, len(x_data_train), batch_size):\n",
        "        optimizer.zero_grad()\n",
        "        batch_x, batch_y = x_data_train[i:i+batch_size,:], y_data_train[i:i+batch_size]\n",
        "        outputs = model_lstm(batch_x)\n",
        "        loss = criterion(batch_y.float(), outputs[:,1]) +  criterion(torch.add(-batch_y.float(),1), outputs[:,0])\n",
        "        loss.backward()\n",
        "        optimizer.step()\n",
        "        acc_loss += loss.item()\n",
        "        #print(loss.item())\n",
        "\n",
        "    #print accumumlated epoch loss\n",
        "    print(f'Epoch {epoch+1}/{epochs}\\tLoss: {acc_loss:.4f}')\n",
        "\n",
        "# Example: Evaluate the model on validation data\n",
        "model_lstm.eval()\n",
        "with torch.no_grad():\n",
        "    outputs = model_lstm(x_data_val)\n",
        "\n",
        "    _, predicted = torch.max(outputs, 1)\n",
        "    correct = (predicted == y_data_val).sum().item()\n",
        "    accuracy = correct / len(y_data_val)\n",
        "    print(f'Validation Accuracy: {accuracy:.4f}')\n",
        "    print_results(y_data_val.cpu(),predicted.cpu() , f'LSTM-2layers, {max_seq_length}' )\n",
        "    print_per_class_results(y_data_val.cpu(),predicted.cpu() )"
      ],
      "metadata": {
        "id": "-lQqDBXfqYP9",
        "colab": {
          "base_uri": "https://localhost:8080/"
        },
        "outputId": "70814c2a-2aef-4fed-97a5-abd1788c9511"
      },
      "execution_count": null,
      "outputs": [
        {
          "output_type": "stream",
          "name": "stdout",
          "text": [
            "Validation Accuracy: 0.8932\n",
            "LSTM-2layers, 64,\tAccuracy=0.89,\tC0: Pr=0.97, Re=0.91, F1=0.94,\tC1: Pr=0.49, Re=0.76, F1=0.60\n",
            "something went wrong cannot insert LSTM-2layers, 64, already exists\n",
            ",\t class=0\tAccuracy=0.89,\t Precision=0.97,\tRecall=0.91\tF1-score=0.94\n",
            ",\t class=1\tAccuracy=0.89,\t Precision=0.49,\tRecall=0.76\tF1-score=0.60\n"
          ]
        }
      ]
    },
    {
      "cell_type": "markdown",
      "source": [
        "**Network Visualization**"
      ],
      "metadata": {
        "id": "i0QKVhg8TcD1"
      }
    },
    {
      "cell_type": "code",
      "source": [
        "!pip install torchviz"
      ],
      "metadata": {
        "id": "0kz1vhKqaFpo"
      },
      "execution_count": null,
      "outputs": []
    },
    {
      "cell_type": "code",
      "source": [
        "from torchviz import make_dot\n",
        "make_dot(model_lstm(x_data_train), params=dict(list(model_lstm.named_parameters()))).render(\"./graphs/graph_lstm_torchviz\", format=\"png\")\n"
      ],
      "metadata": {
        "colab": {
          "base_uri": "https://localhost:8080/"
        },
        "id": "hNhkdQ8KaCsk",
        "outputId": "740626d1-8bcf-4187-ab83-b2a13195380a"
      },
      "execution_count": 69,
      "outputs": [
        {
          "output_type": "execute_result",
          "data": {
            "text/plain": [
              "'graphs\\\\graph_lstm_torchviz.png'"
            ]
          },
          "metadata": {},
          "execution_count": 69
        }
      ]
    },
    {
      "cell_type": "code",
      "source": [
        "#!mkdir ./graphs\n",
        "x_temp_mlp =torch.Tensor(X_train_val[0:10,:]).to(device)\n",
        "make_dot(model_mlp(x_temp_mlp), params=dict(list(model_lstm.named_parameters()))).render(\"./graphs/graph_model_architecture_mlp\", format=\"png\")\n",
        "make_dot(model_cnn(batch_x), params=dict(list(model_cnn.named_parameters()))).render(\"./graphs/graph_model_architecture_cnn\", format=\"png\")\n",
        "\n",
        "#create_graph(model_cnn , './graphs/graph_model_architecture_cnn' , 'png')\n",
        "#create_graph(model_lstm , './graphs/graph_model_architecture_lstm' , 'png')\n"
      ],
      "metadata": {
        "colab": {
          "base_uri": "https://localhost:8080/"
        },
        "id": "JLQX0BMTQekP",
        "outputId": "9d2bc861-bbed-4103-8fb5-7487d5590f3d"
      },
      "execution_count": 78,
      "outputs": [
        {
          "output_type": "execute_result",
          "data": {
            "text/plain": [
              "'graphs\\\\graph_model_architecture_cnn.png'"
            ]
          },
          "metadata": {},
          "execution_count": 78
        }
      ]
    },
    {
      "cell_type": "code",
      "source": [
        "!pip install graphviz"
      ],
      "metadata": {
        "colab": {
          "base_uri": "https://localhost:8080/"
        },
        "id": "6_kFp0kPW6a6",
        "outputId": "bb6d21d6-1be1-4d40-b7f9-44c54f72205c"
      },
      "execution_count": null,
      "outputs": [
        {
          "output_type": "stream",
          "name": "stdout",
          "text": [
            "Requirement already satisfied: graphviz in c:\\python\\python38\\lib\\site-packages (0.20.1)\n"
          ]
        }
      ]
    },
    {
      "cell_type": "code",
      "source": [
        "import torch\n",
        "from graphviz import Digraph  # Install graphviz with pip install graphviz\n",
        "\n",
        "# Define a function to create a node for a layer\n",
        "def create_node(layer_name, layer_type):\n",
        "    return f'{layer_name} ({layer_type})'\n",
        "\n",
        "def create_graph(model, fname , fmt=\"png\"):\n",
        "  # Create a directed graph object\n",
        "  dot = Digraph()\n",
        "  # Iterate through your model layers and add nodes and edges\n",
        "  in_layer = None  # Keep track of the previous layer\n",
        "  for i, layer in enumerate(model.modules()):\n",
        "      if isinstance(layer, torch.nn.Module):\n",
        "          layer_name = f'Layer {i+1}'\n",
        "          layer_type = str(layer).split('(')[0]  # Extract layer type\n",
        "\n",
        "          dot.node(layer_name, create_node(layer_name, layer_type))\n",
        "\n",
        "          if in_layer is not None:\n",
        "              dot.edge(in_layer, layer_name)  # Add edge from previous layer to current\n",
        "\n",
        "          in_layer = layer_name\n",
        "\n",
        "  # Render the graph to a file\n",
        "  dot.render(filename=fname+\".\"+fmt, format=fmt)\n",
        "\n",
        "#plot networks\n",
        "import os\n",
        "os.environ[\"PATH\"] += os.pathsep + 'C:/Program Files/Graphviz/bin/'\n"
      ],
      "metadata": {
        "id": "JI23Qtwi-9Tn"
      },
      "execution_count": null,
      "outputs": []
    },
    {
      "cell_type": "code",
      "source": [
        "!mkdir ./graphs\n",
        "create_graph(model_mlp , './graphs/graph_model_architecture_mlp' , 'png')\n",
        "create_graph(model_cnn , './graphs/graph_model_architecture_cnn' , 'png')\n",
        "create_graph(model_lstm , './graphs/graph_model_architecture_lstm' , 'png')\n"
      ],
      "metadata": {
        "colab": {
          "base_uri": "https://localhost:8080/"
        },
        "id": "purZg8beYlsd",
        "outputId": "2880aeeb-3df1-43d9-a165-c1f7944c5b17"
      },
      "execution_count": null,
      "outputs": [
        {
          "output_type": "stream",
          "name": "stderr",
          "text": [
            "The syntax of the command is incorrect.\n"
          ]
        }
      ]
    },
    {
      "cell_type": "code",
      "source": [
        "print(model_cnn)"
      ],
      "metadata": {
        "colab": {
          "base_uri": "https://localhost:8080/"
        },
        "id": "5JqGmZ8wcsHq",
        "outputId": "522a75b0-7e23-4435-957b-2b168109bd72"
      },
      "execution_count": null,
      "outputs": [
        {
          "output_type": "stream",
          "name": "stdout",
          "text": [
            "TextCNN(\n",
            "  (embedding): Embedding(9447, 100)\n",
            "  (conv_layers): ModuleList(\n",
            "    (0): Conv1d(100, 128, kernel_size=(3,), stride=(1,))\n",
            "    (1): Conv1d(100, 128, kernel_size=(5,), stride=(1,))\n",
            "    (2): Conv1d(100, 128, kernel_size=(7,), stride=(1,))\n",
            "  )\n",
            "  (dropout): Dropout(p=0.5, inplace=False)\n",
            "  (fc): Linear(in_features=384, out_features=2, bias=True)\n",
            ")\n"
          ]
        }
      ]
    },
    {
      "cell_type": "markdown",
      "source": [
        "**Mixture of Experts**"
      ],
      "metadata": {
        "id": "2pKLzhsFlDWg"
      }
    },
    {
      "cell_type": "code",
      "source": [
        "from sklearn.ensemble import RandomForestClassifier, GradientBoostingClassifier\n",
        "from sklearn.linear_model import LogisticRegression\n",
        "from sklearn.neural_network import MLPClassifier\n",
        "from sklearn.metrics import classification_report\n",
        "\n",
        "# Instantiate base classifiers\n",
        "rf_classifier = RandomForestClassifier()\n",
        "gb_classifier = GradientBoostingClassifier()\n",
        "lr_classifier = LogisticRegression()\n",
        "mlp_classifier = MLPClassifier()\n",
        "\n",
        "# Train base classifiers on your imbalanced dataset\n",
        "rf_classifier.fit(X_train_val, y_train_val)\n",
        "gb_classifier.fit(X_train_val, y_train_val)\n",
        "lr_classifier.fit(X_train_val, y_train_val)\n",
        "mlp_classifier.fit(X_train_val, y_train_val)\n",
        "\n",
        "# Make predictions on the test set\n",
        "rf_preds = rf_classifier.predict(X_test)\n",
        "gb_preds = gb_classifier.predict(X_test)\n",
        "lr_preds = lr_classifier.predict(X_test)\n",
        "mlp_preds = mlp_classifier.predict(X_test)\n",
        "\n",
        "# Combine predictions using weighted voting\n",
        "ensemble_preds = (0.25 * rf_preds + 0.25 * gb_preds + 0.25 * lr_preds + 0.25 * mlp_preds)\n",
        "y_pred = np.zeros(y_test.shape)\n",
        "y_pred[ensemble_preds >= 0.5] =1\n",
        "# Evaluate the ensemble\n",
        "print(classification_report(y_test, y_pred))\n",
        "print_results(y_test, y_pred, 'MoE, Eq. Weight, ' + current_options )\n",
        "\n",
        "\n",
        "# Make predictions on the training set\n",
        "y_preds_rf  = rf_classifier.predict(X_train_val).reshape(-1,1)\n",
        "y_preds_gb  = gb_classifier.predict(X_train_val).reshape(-1,1)\n",
        "y_preds_lr  = lr_classifier.predict(X_train_val).reshape(-1,1)\n",
        "y_preds_mlp = mlp_classifier.predict(X_train_val).reshape(-1,1)\n",
        "y_pred_train_val = np.concatenate((y_preds_rf,y_preds_gb, y_preds_lr, y_preds_mlp ), axis=1)\n",
        "\n",
        "# Instantiate base classifiers\n",
        "rf_combiner = RandomForestClassifier()\n",
        "gb_combiner = GradientBoostingClassifier()\n",
        "lr_combiner = LogisticRegression()\n",
        "mlp_combiner = MLPClassifier()\n",
        "\n",
        "rf_combiner.fit(y_pred_train_val, y_train_val)\n",
        "gb_combiner.fit(y_pred_train_val, y_train_val)\n",
        "lr_combiner.fit(y_pred_train_val, y_train_val)\n",
        "mlp_combiner.fit(y_pred_train_val, y_train_val)\n",
        "\n",
        "# Make predictions on the test set\n",
        "y_pred_test_rf  = rf_classifier.predict(X_test).reshape(-1,1)\n",
        "y_pred_test_gb  = gb_classifier.predict(X_test).reshape(-1,1)\n",
        "y_pred_test_lr  = lr_classifier.predict(X_test).reshape(-1,1)\n",
        "y_pred_test_mlp = mlp_classifier.predict(X_test).reshape(-1,1)\n",
        "y_pred_test = np.concatenate((y_pred_test_rf, y_pred_test_gb, y_pred_test_lr, y_pred_test_mlp ), axis=1)\n",
        "\n",
        "rfc_preds = rf_combiner.predict(y_pred_test)\n",
        "gbc_preds = gb_combiner.predict(y_pred_test)\n",
        "lrc_preds = lr_combiner.predict(y_pred_test)\n",
        "mlpc_preds = mlp_combiner.predict(y_pred_test)\n",
        "\n",
        "ensemblec_preds = (0.25 * rfc_preds + 0.25 * gbc_preds + 0.25 * lrc_preds + 0.25 * mlpc_preds)\n",
        "\n",
        "# Evaluate the ensemble\n",
        "print_results(y_test, prob2label(rfc_preds),  'MoE, rf-cmb, ' + current_options )\n",
        "print_results(y_test, prob2label(gbc_preds),  'MoE, gb-cmb, ' + current_options )\n",
        "print_results(y_test, prob2label(lrc_preds),  'MoE, lr-cmb, ' + current_options )\n",
        "print_results(y_test, prob2label(mlpc_preds), 'MoE, mlpc-cmb, ' + current_options )\n",
        "print_results(y_test, prob2label(ensemblec_preds), 'MoE, all-cmb, ' + current_options )\n",
        "\n"
      ],
      "metadata": {
        "id": "g-Jmzi2glCyQ"
      },
      "execution_count": null,
      "outputs": []
    },
    {
      "cell_type": "code",
      "source": [
        "print(classification_report(y_test,prob2label( mlpc_preds)))"
      ],
      "metadata": {
        "id": "dWjP4VNjw07j"
      },
      "execution_count": null,
      "outputs": []
    },
    {
      "cell_type": "markdown",
      "source": [
        "**Balanced Classification**\n",
        "\n",
        "This experiments trains an ensemble of random forests on the balanced subsets"
      ],
      "metadata": {
        "id": "vS--U_kAR4xt"
      }
    },
    {
      "cell_type": "code",
      "source": [
        "import numpy as np\n",
        "from sklearn.model_selection import train_test_split\n",
        "from sklearn.ensemble import RandomForestClassifier\n",
        "from sklearn.metrics import accuracy_score\n",
        "\n",
        "\n",
        "# Separate instances for class 1\n",
        "class_1_instances = X_train_val[y_train_val == 1,:]\n",
        "class_0_instances = X_train_val[y_train_val == 0,:]\n",
        "num_classifiers = 101\n",
        "classifiers = []\n",
        "number_of_samples = class_1_instances.shape[0]\n",
        "# Build an ensemble of classifiers (Random Forests in this example)\n",
        "\n",
        "for ks in range(1,num_classifiers+1):\n",
        "  # Randomly sample 2000 instances from class 0\n",
        "  indices = np.random.choice(class_0_instances.shape[0], number_of_samples, replace=True)\n",
        "  sampled_class_0_instances = class_0_instances[indices,:]\n",
        "\n",
        "  # Combine instances for class 1 and sampled instances from class 0\n",
        "  balanced_X = np.concatenate([class_1_instances, sampled_class_0_instances])\n",
        "  balanced_y = np.concatenate([np.ones(class_1_instances.shape[0]), np.zeros(sampled_class_0_instances.shape[0])])\n",
        "\n",
        "  #classifier = RandomForestClassifier(n_estimators=101, random_state=100)\n",
        "  #classifier = sklearn.linear_model.LogisticRegression(random_state=42)\n",
        "  classifier = MLPClassifier(random_state=42)\n",
        "\n",
        "  classifier.fit(balanced_X, balanced_y)\n",
        "  classifiers.append(classifier)\n",
        "  y_pred = classifier.predict(X_test)\n",
        "  print_results(y_test , y_pred,  f'ensemble{ks} ' + current_options)\n",
        "\n",
        "# Make predictions on the test set using each classifier\n",
        "predictions = [classifier.predict(X_test) for classifier in classifiers]\n",
        "\n",
        "# Take a majority vote to get the final ensemble prediction\n",
        "ensemble_predictions = np.mean(predictions, axis=0) > 0.5\n",
        "\n",
        "# Evaluate the ensemble performance\n",
        "ensemble_accuracy = accuracy_score(y_test, ensemble_predictions)\n",
        "print(f'Ensemble Accuracy: {ensemble_accuracy}')\n",
        "print_results(y_test , ensemble_predictions,  'ensemble_total ' + current_options)\n"
      ],
      "metadata": {
        "id": "R-gOUwRaR5VG"
      },
      "execution_count": null,
      "outputs": []
    },
    {
      "cell_type": "markdown",
      "metadata": {
        "id": "Q9o02SgiTxpA"
      },
      "source": [
        "**Word2vec Model**"
      ]
    },
    {
      "cell_type": "markdown",
      "source": [
        "In this set of experiments we build and test several well-known\n",
        "word2vec and doc2vec models"
      ],
      "metadata": {
        "id": "zbCmHPIRx1Lo"
      }
    },
    {
      "cell_type": "code",
      "source": [
        "\n",
        "#basic functions\n",
        "from gensim.models.doc2vec import Doc2Vec, TaggedDocument\n",
        "from gensim.test.utils import get_tmpfile\n",
        "\n",
        "#Get embedding of a document as the mean of embeddings of its words\n",
        "def get_doc2vec(model ,doc ):\n",
        "  tokens = doc.lower().split()\n",
        "  vec = np.zeros(model.vector_size)\n",
        "  num_tokens = 0\n",
        "  for token in tokens:\n",
        "    try:\n",
        "      vec += model.get_vector(token)\n",
        "      num_tokens += 1\n",
        "    except:\n",
        "      token = 'unk' #print(f\"{token} not found in vocab\")\n",
        "\n",
        "  if num_tokens > 0:\n",
        "    vec /= num_tokens\n",
        "  return vec.reshape(1,-1)\n",
        "\n",
        "#Generate document vectors for all of the sentences:\n",
        "def get_corpus_embeddings(model , documents):\n",
        "  X = get_doc2vec(model, documents[0] )\n",
        "  for i in range(1,len(documents)):\n",
        "    X = np.append(X, get_doc2vec(model, documents[i]).reshape(1,-1), axis=0)\n",
        "\n",
        "  return X\n",
        ""
      ],
      "metadata": {
        "id": "iNIdUBK9qcqJ"
      },
      "execution_count": 200,
      "outputs": []
    },
    {
      "cell_type": "code",
      "source": [
        "\n",
        "#gensim doc2vec\n",
        "from gensim.models.doc2vec import Doc2Vec, TaggedDocument\n",
        "from gensim.test.utils import get_tmpfile\n",
        "\n",
        "documents = [TaggedDocument(doc.split(), [i]) for i, doc in enumerate(all_df['sentence'].tolist())]\n",
        "model = Doc2Vec(documents, vector_size=300, window=4, min_count=1, workers=100, dbow_words =1, epochs=100)\n",
        "\n",
        "#Persist a model to disk:\n",
        "fname = get_tmpfile(\"gensim_doc2vec_model\")\n",
        "model.save(fname)\n",
        "model = Doc2Vec.load(fname)  # you can continue training with the loaded model!\n",
        "\n",
        "#Generate document vectors for all of the sentences:\n",
        "X_d2v = get_corpus_embeddings (model.wv, all_df['sentence'].tolist())\n",
        "\n",
        "test_basic_models(X_d2v[:y_train_val.shape[0],:], y_train_val,\n",
        "                  X_d2v[y_train_val.shape[0]:,:], y_test, 'gensim_doc2vec, ')\n"
      ],
      "metadata": {
        "colab": {
          "base_uri": "https://localhost:8080/"
        },
        "id": "5tSJ88rcqlFH",
        "outputId": "24f66561-74a2-4801-9e9e-a19075cdc7cc"
      },
      "execution_count": 201,
      "outputs": [
        {
          "output_type": "stream",
          "name": "stdout",
          "text": [
            "basic K-Nearest Neighbors, gensim_doc2vec, ,\tAccuracy=0.88,\tC0: Pr=0.95, Re=0.92, F1=0.93,\tC1: Pr=0.45, Re=0.56, F1=0.50\n",
            "basic Linear Discrimination Analysis, gensim_doc2vec, ,\tAccuracy=0.89,\tC0: Pr=0.94, Re=0.94, F1=0.94,\tC1: Pr=0.47, Re=0.45, F1=0.46\n"
          ]
        },
        {
          "output_type": "stream",
          "name": "stderr",
          "text": [
            "c:\\python\\python38\\lib\\site-packages\\sklearn\\linear_model\\_logistic.py:460: ConvergenceWarning: lbfgs failed to converge (status=1):\n",
            "STOP: TOTAL NO. of ITERATIONS REACHED LIMIT.\n",
            "\n",
            "Increase the number of iterations (max_iter) or scale the data as shown in:\n",
            "    https://scikit-learn.org/stable/modules/preprocessing.html\n",
            "Please also refer to the documentation for alternative solver options:\n",
            "    https://scikit-learn.org/stable/modules/linear_model.html#logistic-regression\n",
            "  n_iter_i = _check_optimize_result(\n"
          ]
        },
        {
          "output_type": "stream",
          "name": "stdout",
          "text": [
            "basic Logistic Regression, gensim_doc2vec, ,\tAccuracy=0.89,\tC0: Pr=0.93, Re=0.94, F1=0.94,\tC1: Pr=0.47, Re=0.44, F1=0.46\n",
            "basic Support Vector Machine-L, gensim_doc2vec, ,\tAccuracy=0.90,\tC0: Pr=0.94, Re=0.94, F1=0.94,\tC1: Pr=0.50, Re=0.49, F1=0.50\n",
            "basic Support Vector Machine-R, gensim_doc2vec, ,\tAccuracy=0.91,\tC0: Pr=0.95, Re=0.96, F1=0.95,\tC1: Pr=0.60, Re=0.54, F1=0.57\n",
            "basic Support Vector Machine-S, gensim_doc2vec, ,\tAccuracy=0.76,\tC0: Pr=0.91, Re=0.81, F1=0.86,\tC1: Pr=0.15, Re=0.30, F1=0.20\n",
            "basic Support Vector Machine-WL, gensim_doc2vec, ,\tAccuracy=0.63,\tC0: Pr=0.98, Re=0.60, F1=0.75,\tC1: Pr=0.21, Re=0.90, F1=0.34\n",
            "basic Support Vector Machine-WR, gensim_doc2vec, ,\tAccuracy=0.74,\tC0: Pr=0.99, Re=0.71, F1=0.83,\tC1: Pr=0.28, Re=0.94, F1=0.43\n",
            "basic Support Vector Machine-WS, gensim_doc2vec, ,\tAccuracy=0.50,\tC0: Pr=0.95, Re=0.47, F1=0.63,\tC1: Pr=0.15, Re=0.80, F1=0.25\n",
            "basic Decision Tree classifier, gensim_doc2vec, ,\tAccuracy=0.78,\tC0: Pr=0.93, Re=0.82, F1=0.87,\tC1: Pr=0.24, Re=0.49, F1=0.32\n"
          ]
        }
      ]
    },
    {
      "cell_type": "code",
      "source": [
        "#gensim FastText\n",
        "from gensim.models import FastText\n",
        "from gensim.test.utils import get_tmpfile\n",
        "\n",
        "documents = all_df['sentence'].tolist()\n",
        "docs=[]\n",
        "for doc in documents:\n",
        "  #print(doc.split())\n",
        "  docs += [doc.split()]\n",
        "\n",
        "model_fasttext = FastText(vector_size=40, window=3, min_count=1, sentences=docs, epochs=100)\n",
        "\n",
        "fname = get_tmpfile(\"suggestion_fasttext.model\")\n",
        "model_fasttext.save(fname)\n",
        "model_fasttext = FastText.load(fname)\n",
        "\n",
        "#Generate document vectors for all of the sentences:\n",
        "X_ft = get_corpus_embeddings (model_fasttext.wv, all_df['sentence'].tolist())\n",
        "\n",
        "test_basic_models(X_ft[:y_train_val.shape[0],:], y_train_val,\n",
        "                  X_ft[y_train_val.shape[0]:,:], y_test, 'gensim-fasttext-words')\n"
      ],
      "metadata": {
        "id": "RzVwSiFk2Qtj",
        "colab": {
          "base_uri": "https://localhost:8080/"
        },
        "outputId": "0e3854f3-d6a9-493b-d881-5db3ae132750"
      },
      "execution_count": 202,
      "outputs": [
        {
          "output_type": "stream",
          "name": "stdout",
          "text": [
            "basic K-Nearest Neighbors, gensim-fasttext-words,\tAccuracy=0.87,\tC0: Pr=0.94, Re=0.91, F1=0.92,\tC1: Pr=0.39, Re=0.49, F1=0.43\n",
            "basic Linear Discrimination Analysis, gensim-fasttext-words,\tAccuracy=0.88,\tC0: Pr=0.92, Re=0.94, F1=0.93,\tC1: Pr=0.39, Re=0.33, F1=0.36\n",
            "basic Logistic Regression, gensim-fasttext-words,\tAccuracy=0.88,\tC0: Pr=0.92, Re=0.94, F1=0.93,\tC1: Pr=0.40, Re=0.33, F1=0.36\n",
            "basic Support Vector Machine-L, gensim-fasttext-words,\tAccuracy=0.88,\tC0: Pr=0.92, Re=0.95, F1=0.94,\tC1: Pr=0.41, Re=0.30, F1=0.35\n",
            "basic Support Vector Machine-R, gensim-fasttext-words,\tAccuracy=0.90,\tC0: Pr=0.94, Re=0.96, F1=0.95,\tC1: Pr=0.54, Re=0.45, F1=0.49\n",
            "basic Support Vector Machine-S, gensim-fasttext-words,\tAccuracy=0.77,\tC0: Pr=0.92, Re=0.81, F1=0.86,\tC1: Pr=0.20, Re=0.39, F1=0.26\n",
            "basic Support Vector Machine-WL, gensim-fasttext-words,\tAccuracy=0.48,\tC0: Pr=0.98, Re=0.42, F1=0.59,\tC1: Pr=0.16, Re=0.94, F1=0.27\n",
            "basic Support Vector Machine-WR, gensim-fasttext-words,\tAccuracy=0.62,\tC0: Pr=0.99, Re=0.58, F1=0.73,\tC1: Pr=0.21, Re=0.93, F1=0.34\n",
            "basic Support Vector Machine-WS, gensim-fasttext-words,\tAccuracy=0.45,\tC0: Pr=0.95, Re=0.41, F1=0.58,\tC1: Pr=0.14, Re=0.82, F1=0.24\n",
            "basic Decision Tree classifier, gensim-fasttext-words,\tAccuracy=0.79,\tC0: Pr=0.93, Re=0.83, F1=0.88,\tC1: Pr=0.25, Re=0.49, F1=0.33\n"
          ]
        }
      ]
    },
    {
      "cell_type": "code",
      "source": [
        "#Test pretrained word2vec models:\n",
        "import gensim.downloader\n",
        "#models =['fasttext-wiki-news-subwords-300',\n",
        "models  =['conceptnet-numberbatch-17-06-300',\n",
        "         'word2vec-ruscorpora-300',\n",
        "         'word2vec-google-news-300',\n",
        "         'glove-wiki-gigaword-50',\n",
        "         'glove-wiki-gigaword-100',\n",
        "         'glove-wiki-gigaword-200',\n",
        "         'glove-wiki-gigaword-300',\n",
        "         'glove-twitter-25',\n",
        "         'glove-twitter-50',\n",
        "         'glove-twitter-100',\n",
        "         'glove-twitter-200',\n",
        "         '__testing_word2vec-matrix-synopsis',\n",
        "         ]\n",
        "\n",
        "#Play with pretrained word2vec embeddings\n",
        "for model_name in models:\n",
        "  print (model_name)\n",
        "  model_fname = model_name + \".model\"\n",
        "  model_pretrained = gensim.downloader.load(model_name)\n",
        "\n",
        "  #Generate document vectors for all of the sentences:\n",
        "  X_gl = get_corpus_embeddings (model_pretrained, all_df['sentence'].tolist())\n",
        "  try:\n",
        "    test_basic_models(X_gl[:y_train_val.shape[0],:], y_train_val,\n",
        "                    X_gl[y_train_val.shape[0]:,:], y_test, model_name)\n",
        "  except Exception as E:\n",
        "    print (f'Cannot eval word2vec {model_name}. Description {E}')\n",
        "\n"
      ],
      "metadata": {
        "id": "96kq9mftvxvr",
        "colab": {
          "base_uri": "https://localhost:8080/"
        },
        "outputId": "b65a72e5-cc6c-47f4-c3f2-e3a66ec1d5be"
      },
      "execution_count": 206,
      "outputs": [
        {
          "output_type": "stream",
          "name": "stdout",
          "text": [
            "conceptnet-numberbatch-17-06-300\n"
          ]
        },
        {
          "output_type": "stream",
          "name": "stderr",
          "text": [
            "c:\\python\\python38\\lib\\site-packages\\sklearn\\metrics\\_classification.py:1471: UndefinedMetricWarning: Precision is ill-defined and being set to 0.0 due to no predicted samples. Use `zero_division` parameter to control this behavior.\n",
            "  _warn_prf(average, modifier, msg_start, len(result))\n"
          ]
        },
        {
          "output_type": "stream",
          "name": "stdout",
          "text": [
            "basic K-Nearest Neighbors, conceptnet-numberbatch-17-06-300,\tAccuracy=0.90,\tC0: Pr=0.90, Re=1.00, F1=0.94,\tC1: Pr=0.00, Re=0.00, F1=0.00\n",
            "something went wrong cannot insert basic K-Nearest Neighbors, conceptnet-numberbatch-17-06-300, already exists\n",
            "Cannot eval word2vec conceptnet-numberbatch-17-06-300. Description Internal work array size computation failed: -10\n",
            "word2vec-ruscorpora-300\n"
          ]
        },
        {
          "output_type": "stream",
          "name": "stderr",
          "text": [
            "c:\\python\\python38\\lib\\site-packages\\sklearn\\metrics\\_classification.py:1471: UndefinedMetricWarning: Precision is ill-defined and being set to 0.0 due to no predicted samples. Use `zero_division` parameter to control this behavior.\n",
            "  _warn_prf(average, modifier, msg_start, len(result))\n"
          ]
        },
        {
          "output_type": "stream",
          "name": "stdout",
          "text": [
            "basic K-Nearest Neighbors, word2vec-ruscorpora-300,\tAccuracy=0.90,\tC0: Pr=0.90, Re=1.00, F1=0.94,\tC1: Pr=0.00, Re=0.00, F1=0.00\n",
            "Cannot eval word2vec word2vec-ruscorpora-300. Description Internal work array size computation failed: -10\n",
            "word2vec-google-news-300\n",
            "basic K-Nearest Neighbors, word2vec-google-news-300,\tAccuracy=0.85,\tC0: Pr=0.93, Re=0.90, F1=0.92,\tC1: Pr=0.32, Re=0.38, F1=0.35\n",
            "basic Linear Discrimination Analysis, word2vec-google-news-300,\tAccuracy=0.87,\tC0: Pr=0.93, Re=0.93, F1=0.93,\tC1: Pr=0.39, Re=0.37, F1=0.38\n",
            "basic Logistic Regression, word2vec-google-news-300,\tAccuracy=0.88,\tC0: Pr=0.92, Re=0.95, F1=0.93,\tC1: Pr=0.40, Re=0.31, F1=0.35\n",
            "basic Support Vector Machine-L, word2vec-google-news-300,\tAccuracy=0.88,\tC0: Pr=0.92, Re=0.95, F1=0.93,\tC1: Pr=0.41, Re=0.32, F1=0.36\n",
            "basic Support Vector Machine-R, word2vec-google-news-300,\tAccuracy=0.89,\tC0: Pr=0.94, Re=0.94, F1=0.94,\tC1: Pr=0.49, Re=0.53, F1=0.51\n",
            "basic Support Vector Machine-S, word2vec-google-news-300,\tAccuracy=0.77,\tC0: Pr=0.91, Re=0.82, F1=0.87,\tC1: Pr=0.17, Re=0.32, F1=0.23\n",
            "basic Support Vector Machine-WL, word2vec-google-news-300,\tAccuracy=0.54,\tC0: Pr=0.99, Re=0.50, F1=0.66,\tC1: Pr=0.18, Re=0.94, F1=0.30\n",
            "basic Support Vector Machine-WR, word2vec-google-news-300,\tAccuracy=0.71,\tC0: Pr=0.98, Re=0.69, F1=0.81,\tC1: Pr=0.25, Re=0.91, F1=0.40\n",
            "basic Support Vector Machine-WS, word2vec-google-news-300,\tAccuracy=0.48,\tC0: Pr=0.96, Re=0.43, F1=0.60,\tC1: Pr=0.15, Re=0.86, F1=0.26\n",
            "basic Decision Tree classifier, word2vec-google-news-300,\tAccuracy=0.74,\tC0: Pr=0.93, Re=0.77, F1=0.84,\tC1: Pr=0.20, Re=0.51, F1=0.29\n",
            "glove-wiki-gigaword-50\n",
            "basic K-Nearest Neighbors, glove-wiki-gigaword-50,\tAccuracy=0.84,\tC0: Pr=0.92, Re=0.91, F1=0.91,\tC1: Pr=0.27, Re=0.29, F1=0.28\n",
            "basic Linear Discrimination Analysis, glove-wiki-gigaword-50,\tAccuracy=0.86,\tC0: Pr=0.91, Re=0.94, F1=0.92,\tC1: Pr=0.24, Re=0.17, F1=0.20\n"
          ]
        },
        {
          "output_type": "stream",
          "name": "stderr",
          "text": [
            "c:\\python\\python38\\lib\\site-packages\\sklearn\\linear_model\\_logistic.py:460: ConvergenceWarning: lbfgs failed to converge (status=1):\n",
            "STOP: TOTAL NO. of ITERATIONS REACHED LIMIT.\n",
            "\n",
            "Increase the number of iterations (max_iter) or scale the data as shown in:\n",
            "    https://scikit-learn.org/stable/modules/preprocessing.html\n",
            "Please also refer to the documentation for alternative solver options:\n",
            "    https://scikit-learn.org/stable/modules/linear_model.html#logistic-regression\n",
            "  n_iter_i = _check_optimize_result(\n"
          ]
        },
        {
          "output_type": "stream",
          "name": "stdout",
          "text": [
            "basic Logistic Regression, glove-wiki-gigaword-50,\tAccuracy=0.86,\tC0: Pr=0.91, Re=0.94, F1=0.92,\tC1: Pr=0.26, Re=0.18, F1=0.22\n"
          ]
        },
        {
          "output_type": "stream",
          "name": "stderr",
          "text": [
            "c:\\python\\python38\\lib\\site-packages\\sklearn\\metrics\\_classification.py:1471: UndefinedMetricWarning: Precision is ill-defined and being set to 0.0 due to no predicted samples. Use `zero_division` parameter to control this behavior.\n",
            "  _warn_prf(average, modifier, msg_start, len(result))\n"
          ]
        },
        {
          "output_type": "stream",
          "name": "stdout",
          "text": [
            "basic Support Vector Machine-L, glove-wiki-gigaword-50,\tAccuracy=0.90,\tC0: Pr=0.90, Re=1.00, F1=0.94,\tC1: Pr=0.00, Re=0.00, F1=0.00\n",
            "basic Support Vector Machine-R, glove-wiki-gigaword-50,\tAccuracy=0.89,\tC0: Pr=0.90, Re=1.00, F1=0.94,\tC1: Pr=0.00, Re=0.00, F1=0.00\n",
            "basic Support Vector Machine-S, glove-wiki-gigaword-50,\tAccuracy=0.72,\tC0: Pr=0.90, Re=0.78, F1=0.83,\tC1: Pr=0.12, Re=0.25, F1=0.16\n"
          ]
        },
        {
          "output_type": "stream",
          "name": "stderr",
          "text": [
            "c:\\python\\python38\\lib\\site-packages\\sklearn\\metrics\\_classification.py:1471: UndefinedMetricWarning: Precision is ill-defined and being set to 0.0 due to no predicted samples. Use `zero_division` parameter to control this behavior.\n",
            "  _warn_prf(average, modifier, msg_start, len(result))\n"
          ]
        },
        {
          "output_type": "stream",
          "name": "stdout",
          "text": [
            "basic Support Vector Machine-WL, glove-wiki-gigaword-50,\tAccuracy=0.10,\tC0: Pr=0.00, Re=0.00, F1=0.00,\tC1: Pr=0.10, Re=1.00, F1=0.19\n",
            "basic Support Vector Machine-WR, glove-wiki-gigaword-50,\tAccuracy=0.22,\tC0: Pr=1.00, Re=0.13, F1=0.23,\tC1: Pr=0.12, Re=1.00, F1=0.21\n",
            "basic Support Vector Machine-WS, glove-wiki-gigaword-50,\tAccuracy=0.38,\tC0: Pr=0.95, Re=0.32, F1=0.48,\tC1: Pr=0.13, Re=0.86, F1=0.22\n",
            "basic Decision Tree classifier, glove-wiki-gigaword-50,\tAccuracy=0.72,\tC0: Pr=0.93, Re=0.74, F1=0.82,\tC1: Pr=0.18, Re=0.49, F1=0.27\n",
            "glove-wiki-gigaword-100\n",
            "basic K-Nearest Neighbors, glove-wiki-gigaword-100,\tAccuracy=0.85,\tC0: Pr=0.92, Re=0.91, F1=0.91,\tC1: Pr=0.29, Re=0.32, F1=0.31\n",
            "basic Linear Discrimination Analysis, glove-wiki-gigaword-100,\tAccuracy=0.88,\tC0: Pr=0.91, Re=0.95, F1=0.93,\tC1: Pr=0.35, Re=0.23, F1=0.28\n"
          ]
        },
        {
          "output_type": "stream",
          "name": "stderr",
          "text": [
            "c:\\python\\python38\\lib\\site-packages\\sklearn\\linear_model\\_logistic.py:460: ConvergenceWarning: lbfgs failed to converge (status=1):\n",
            "STOP: TOTAL NO. of ITERATIONS REACHED LIMIT.\n",
            "\n",
            "Increase the number of iterations (max_iter) or scale the data as shown in:\n",
            "    https://scikit-learn.org/stable/modules/preprocessing.html\n",
            "Please also refer to the documentation for alternative solver options:\n",
            "    https://scikit-learn.org/stable/modules/linear_model.html#logistic-regression\n",
            "  n_iter_i = _check_optimize_result(\n"
          ]
        },
        {
          "output_type": "stream",
          "name": "stdout",
          "text": [
            "basic Logistic Regression, glove-wiki-gigaword-100,\tAccuracy=0.87,\tC0: Pr=0.91, Re=0.94, F1=0.93,\tC1: Pr=0.33, Re=0.24, F1=0.28\n",
            "basic Support Vector Machine-L, glove-wiki-gigaword-100,\tAccuracy=0.89,\tC0: Pr=0.91, Re=0.97, F1=0.94,\tC1: Pr=0.39, Re=0.17, F1=0.24\n",
            "basic Support Vector Machine-R, glove-wiki-gigaword-100,\tAccuracy=0.89,\tC0: Pr=0.91, Re=0.98, F1=0.94,\tC1: Pr=0.48, Re=0.17, F1=0.25\n",
            "basic Support Vector Machine-S, glove-wiki-gigaword-100,\tAccuracy=0.73,\tC0: Pr=0.90, Re=0.79, F1=0.84,\tC1: Pr=0.13, Re=0.28, F1=0.18\n",
            "basic Support Vector Machine-WL, glove-wiki-gigaword-100,\tAccuracy=0.36,\tC0: Pr=1.00, Re=0.29, F1=0.45,\tC1: Pr=0.14, Re=0.99, F1=0.24\n",
            "basic Support Vector Machine-WR, glove-wiki-gigaword-100,\tAccuracy=0.40,\tC0: Pr=1.00, Re=0.33, F1=0.49,\tC1: Pr=0.15, Re=0.99, F1=0.26\n",
            "basic Support Vector Machine-WS, glove-wiki-gigaword-100,\tAccuracy=0.39,\tC0: Pr=0.94, Re=0.34, F1=0.50,\tC1: Pr=0.13, Re=0.83, F1=0.22\n",
            "basic Decision Tree classifier, glove-wiki-gigaword-100,\tAccuracy=0.75,\tC0: Pr=0.94, Re=0.77, F1=0.85,\tC1: Pr=0.23, Re=0.60, F1=0.34\n",
            "glove-wiki-gigaword-200\n",
            "basic K-Nearest Neighbors, glove-wiki-gigaword-200,\tAccuracy=0.82,\tC0: Pr=0.92, Re=0.88, F1=0.90,\tC1: Pr=0.23, Re=0.30, F1=0.26\n",
            "basic Linear Discrimination Analysis, glove-wiki-gigaword-200,\tAccuracy=0.88,\tC0: Pr=0.92, Re=0.95, F1=0.93,\tC1: Pr=0.40, Re=0.31, F1=0.35\n"
          ]
        },
        {
          "output_type": "stream",
          "name": "stderr",
          "text": [
            "c:\\python\\python38\\lib\\site-packages\\sklearn\\linear_model\\_logistic.py:460: ConvergenceWarning: lbfgs failed to converge (status=1):\n",
            "STOP: TOTAL NO. of ITERATIONS REACHED LIMIT.\n",
            "\n",
            "Increase the number of iterations (max_iter) or scale the data as shown in:\n",
            "    https://scikit-learn.org/stable/modules/preprocessing.html\n",
            "Please also refer to the documentation for alternative solver options:\n",
            "    https://scikit-learn.org/stable/modules/linear_model.html#logistic-regression\n",
            "  n_iter_i = _check_optimize_result(\n"
          ]
        },
        {
          "output_type": "stream",
          "name": "stdout",
          "text": [
            "basic Logistic Regression, glove-wiki-gigaword-200,\tAccuracy=0.87,\tC0: Pr=0.92, Re=0.94, F1=0.93,\tC1: Pr=0.34, Re=0.26, F1=0.30\n",
            "basic Support Vector Machine-L, glove-wiki-gigaword-200,\tAccuracy=0.88,\tC0: Pr=0.92, Re=0.95, F1=0.93,\tC1: Pr=0.39, Re=0.26, F1=0.32\n",
            "basic Support Vector Machine-R, glove-wiki-gigaword-200,\tAccuracy=0.89,\tC0: Pr=0.91, Re=0.97, F1=0.94,\tC1: Pr=0.42, Re=0.22, F1=0.29\n",
            "basic Support Vector Machine-S, glove-wiki-gigaword-200,\tAccuracy=0.75,\tC0: Pr=0.91, Re=0.80, F1=0.85,\tC1: Pr=0.15, Re=0.31, F1=0.21\n",
            "basic Support Vector Machine-WL, glove-wiki-gigaword-200,\tAccuracy=0.43,\tC0: Pr=0.99, Re=0.37, F1=0.54,\tC1: Pr=0.15, Re=0.98, F1=0.27\n",
            "basic Support Vector Machine-WR, glove-wiki-gigaword-200,\tAccuracy=0.48,\tC0: Pr=1.00, Re=0.42, F1=0.59,\tC1: Pr=0.17, Re=0.99, F1=0.28\n",
            "basic Support Vector Machine-WS, glove-wiki-gigaword-200,\tAccuracy=0.43,\tC0: Pr=0.96, Re=0.38, F1=0.54,\tC1: Pr=0.14, Re=0.85, F1=0.24\n",
            "basic Decision Tree classifier, glove-wiki-gigaword-200,\tAccuracy=0.75,\tC0: Pr=0.93, Re=0.78, F1=0.85,\tC1: Pr=0.21, Re=0.52, F1=0.30\n",
            "glove-wiki-gigaword-300\n",
            "basic K-Nearest Neighbors, glove-wiki-gigaword-300,\tAccuracy=0.83,\tC0: Pr=0.92, Re=0.90, F1=0.91,\tC1: Pr=0.26, Re=0.31, F1=0.28\n",
            "basic Linear Discrimination Analysis, glove-wiki-gigaword-300,\tAccuracy=0.87,\tC0: Pr=0.93, Re=0.92, F1=0.93,\tC1: Pr=0.37, Re=0.38, F1=0.38\n"
          ]
        },
        {
          "output_type": "stream",
          "name": "stderr",
          "text": [
            "c:\\python\\python38\\lib\\site-packages\\sklearn\\linear_model\\_logistic.py:460: ConvergenceWarning: lbfgs failed to converge (status=1):\n",
            "STOP: TOTAL NO. of ITERATIONS REACHED LIMIT.\n",
            "\n",
            "Increase the number of iterations (max_iter) or scale the data as shown in:\n",
            "    https://scikit-learn.org/stable/modules/preprocessing.html\n",
            "Please also refer to the documentation for alternative solver options:\n",
            "    https://scikit-learn.org/stable/modules/linear_model.html#logistic-regression\n",
            "  n_iter_i = _check_optimize_result(\n",
            "C:\\Users\\mmr\\AppData\\Local\\Temp\\ipykernel_18236\\3213305879.py:152: PerformanceWarning: DataFrame is highly fragmented.  This is usually the result of calling `frame.insert` many times, which has poor performance.  Consider joining all columns at once using pd.concat(axis=1) instead. To get a de-fragmented frame, use `newframe = frame.copy()`\n",
            "  results_df.insert(len(results_df.columns),description, y_pred)\n"
          ]
        },
        {
          "output_type": "stream",
          "name": "stdout",
          "text": [
            "basic Logistic Regression, glove-wiki-gigaword-300,\tAccuracy=0.87,\tC0: Pr=0.92, Re=0.94, F1=0.93,\tC1: Pr=0.37, Re=0.32, F1=0.34\n",
            "basic Support Vector Machine-L, glove-wiki-gigaword-300,\tAccuracy=0.88,\tC0: Pr=0.92, Re=0.94, F1=0.93,\tC1: Pr=0.38, Re=0.31, F1=0.34\n"
          ]
        },
        {
          "output_type": "stream",
          "name": "stderr",
          "text": [
            "C:\\Users\\mmr\\AppData\\Local\\Temp\\ipykernel_18236\\3213305879.py:152: PerformanceWarning: DataFrame is highly fragmented.  This is usually the result of calling `frame.insert` many times, which has poor performance.  Consider joining all columns at once using pd.concat(axis=1) instead. To get a de-fragmented frame, use `newframe = frame.copy()`\n",
            "  results_df.insert(len(results_df.columns),description, y_pred)\n"
          ]
        },
        {
          "output_type": "stream",
          "name": "stdout",
          "text": [
            "basic Support Vector Machine-R, glove-wiki-gigaword-300,\tAccuracy=0.88,\tC0: Pr=0.92, Re=0.95, F1=0.93,\tC1: Pr=0.39, Re=0.28, F1=0.32\n"
          ]
        },
        {
          "output_type": "stream",
          "name": "stderr",
          "text": [
            "C:\\Users\\mmr\\AppData\\Local\\Temp\\ipykernel_18236\\3213305879.py:152: PerformanceWarning: DataFrame is highly fragmented.  This is usually the result of calling `frame.insert` many times, which has poor performance.  Consider joining all columns at once using pd.concat(axis=1) instead. To get a de-fragmented frame, use `newframe = frame.copy()`\n",
            "  results_df.insert(len(results_df.columns),description, y_pred)\n"
          ]
        },
        {
          "output_type": "stream",
          "name": "stdout",
          "text": [
            "basic Support Vector Machine-S, glove-wiki-gigaword-300,\tAccuracy=0.76,\tC0: Pr=0.91, Re=0.81, F1=0.86,\tC1: Pr=0.17, Re=0.33, F1=0.22\n"
          ]
        },
        {
          "output_type": "stream",
          "name": "stderr",
          "text": [
            "C:\\Users\\mmr\\AppData\\Local\\Temp\\ipykernel_18236\\3213305879.py:152: PerformanceWarning: DataFrame is highly fragmented.  This is usually the result of calling `frame.insert` many times, which has poor performance.  Consider joining all columns at once using pd.concat(axis=1) instead. To get a de-fragmented frame, use `newframe = frame.copy()`\n",
            "  results_df.insert(len(results_df.columns),description, y_pred)\n"
          ]
        },
        {
          "output_type": "stream",
          "name": "stdout",
          "text": [
            "basic Support Vector Machine-WL, glove-wiki-gigaword-300,\tAccuracy=0.51,\tC0: Pr=0.99, Re=0.46, F1=0.63,\tC1: Pr=0.17, Re=0.95, F1=0.29\n"
          ]
        },
        {
          "output_type": "stream",
          "name": "stderr",
          "text": [
            "C:\\Users\\mmr\\AppData\\Local\\Temp\\ipykernel_18236\\3213305879.py:152: PerformanceWarning: DataFrame is highly fragmented.  This is usually the result of calling `frame.insert` many times, which has poor performance.  Consider joining all columns at once using pd.concat(axis=1) instead. To get a de-fragmented frame, use `newframe = frame.copy()`\n",
            "  results_df.insert(len(results_df.columns),description, y_pred)\n"
          ]
        },
        {
          "output_type": "stream",
          "name": "stdout",
          "text": [
            "basic Support Vector Machine-WR, glove-wiki-gigaword-300,\tAccuracy=0.57,\tC0: Pr=0.99, Re=0.53, F1=0.69,\tC1: Pr=0.19, Re=0.97, F1=0.32\n"
          ]
        },
        {
          "output_type": "stream",
          "name": "stderr",
          "text": [
            "C:\\Users\\mmr\\AppData\\Local\\Temp\\ipykernel_18236\\3213305879.py:152: PerformanceWarning: DataFrame is highly fragmented.  This is usually the result of calling `frame.insert` many times, which has poor performance.  Consider joining all columns at once using pd.concat(axis=1) instead. To get a de-fragmented frame, use `newframe = frame.copy()`\n",
            "  results_df.insert(len(results_df.columns),description, y_pred)\n"
          ]
        },
        {
          "output_type": "stream",
          "name": "stdout",
          "text": [
            "basic Support Vector Machine-WS, glove-wiki-gigaword-300,\tAccuracy=0.43,\tC0: Pr=0.94, Re=0.38, F1=0.55,\tC1: Pr=0.13, Re=0.80, F1=0.23\n"
          ]
        },
        {
          "output_type": "stream",
          "name": "stderr",
          "text": [
            "C:\\Users\\mmr\\AppData\\Local\\Temp\\ipykernel_18236\\3213305879.py:152: PerformanceWarning: DataFrame is highly fragmented.  This is usually the result of calling `frame.insert` many times, which has poor performance.  Consider joining all columns at once using pd.concat(axis=1) instead. To get a de-fragmented frame, use `newframe = frame.copy()`\n",
            "  results_df.insert(len(results_df.columns),description, y_pred)\n"
          ]
        },
        {
          "output_type": "stream",
          "name": "stdout",
          "text": [
            "basic Decision Tree classifier, glove-wiki-gigaword-300,\tAccuracy=0.74,\tC0: Pr=0.93, Re=0.76, F1=0.84,\tC1: Pr=0.21, Re=0.54, F1=0.30\n",
            "glove-twitter-25\n"
          ]
        },
        {
          "output_type": "stream",
          "name": "stderr",
          "text": [
            "C:\\Users\\mmr\\AppData\\Local\\Temp\\ipykernel_18236\\3213305879.py:152: PerformanceWarning: DataFrame is highly fragmented.  This is usually the result of calling `frame.insert` many times, which has poor performance.  Consider joining all columns at once using pd.concat(axis=1) instead. To get a de-fragmented frame, use `newframe = frame.copy()`\n",
            "  results_df.insert(len(results_df.columns),description, y_pred)\n"
          ]
        },
        {
          "output_type": "stream",
          "name": "stdout",
          "text": [
            "basic K-Nearest Neighbors, glove-twitter-25,\tAccuracy=0.85,\tC0: Pr=0.92, Re=0.91, F1=0.92,\tC1: Pr=0.31, Re=0.33, F1=0.32\n",
            "basic Linear Discrimination Analysis, glove-twitter-25,\tAccuracy=0.88,\tC0: Pr=0.92, Re=0.95, F1=0.93,\tC1: Pr=0.37, Re=0.26, F1=0.31\n",
            "basic Logistic Regression, glove-twitter-25,\tAccuracy=0.87,\tC0: Pr=0.92, Re=0.94, F1=0.93,\tC1: Pr=0.35, Re=0.28, F1=0.31\n"
          ]
        },
        {
          "output_type": "stream",
          "name": "stderr",
          "text": [
            "C:\\Users\\mmr\\AppData\\Local\\Temp\\ipykernel_18236\\3213305879.py:152: PerformanceWarning: DataFrame is highly fragmented.  This is usually the result of calling `frame.insert` many times, which has poor performance.  Consider joining all columns at once using pd.concat(axis=1) instead. To get a de-fragmented frame, use `newframe = frame.copy()`\n",
            "  results_df.insert(len(results_df.columns),description, y_pred)\n",
            "C:\\Users\\mmr\\AppData\\Local\\Temp\\ipykernel_18236\\3213305879.py:152: PerformanceWarning: DataFrame is highly fragmented.  This is usually the result of calling `frame.insert` many times, which has poor performance.  Consider joining all columns at once using pd.concat(axis=1) instead. To get a de-fragmented frame, use `newframe = frame.copy()`\n",
            "  results_df.insert(len(results_df.columns),description, y_pred)\n",
            "c:\\python\\python38\\lib\\site-packages\\sklearn\\linear_model\\_logistic.py:460: ConvergenceWarning: lbfgs failed to converge (status=1):\n",
            "STOP: TOTAL NO. of ITERATIONS REACHED LIMIT.\n",
            "\n",
            "Increase the number of iterations (max_iter) or scale the data as shown in:\n",
            "    https://scikit-learn.org/stable/modules/preprocessing.html\n",
            "Please also refer to the documentation for alternative solver options:\n",
            "    https://scikit-learn.org/stable/modules/linear_model.html#logistic-regression\n",
            "  n_iter_i = _check_optimize_result(\n",
            "C:\\Users\\mmr\\AppData\\Local\\Temp\\ipykernel_18236\\3213305879.py:152: PerformanceWarning: DataFrame is highly fragmented.  This is usually the result of calling `frame.insert` many times, which has poor performance.  Consider joining all columns at once using pd.concat(axis=1) instead. To get a de-fragmented frame, use `newframe = frame.copy()`\n",
            "  results_df.insert(len(results_df.columns),description, y_pred)\n",
            "c:\\python\\python38\\lib\\site-packages\\sklearn\\metrics\\_classification.py:1471: UndefinedMetricWarning: Precision is ill-defined and being set to 0.0 due to no predicted samples. Use `zero_division` parameter to control this behavior.\n",
            "  _warn_prf(average, modifier, msg_start, len(result))\n",
            "C:\\Users\\mmr\\AppData\\Local\\Temp\\ipykernel_18236\\3213305879.py:152: PerformanceWarning: DataFrame is highly fragmented.  This is usually the result of calling `frame.insert` many times, which has poor performance.  Consider joining all columns at once using pd.concat(axis=1) instead. To get a de-fragmented frame, use `newframe = frame.copy()`\n",
            "  results_df.insert(len(results_df.columns),description, y_pred)\n"
          ]
        },
        {
          "output_type": "stream",
          "name": "stdout",
          "text": [
            "basic Support Vector Machine-L, glove-twitter-25,\tAccuracy=0.90,\tC0: Pr=0.90, Re=1.00, F1=0.94,\tC1: Pr=0.00, Re=0.00, F1=0.00\n"
          ]
        },
        {
          "output_type": "stream",
          "name": "stderr",
          "text": [
            "c:\\python\\python38\\lib\\site-packages\\sklearn\\metrics\\_classification.py:1471: UndefinedMetricWarning: Precision is ill-defined and being set to 0.0 due to no predicted samples. Use `zero_division` parameter to control this behavior.\n",
            "  _warn_prf(average, modifier, msg_start, len(result))\n",
            "C:\\Users\\mmr\\AppData\\Local\\Temp\\ipykernel_18236\\3213305879.py:152: PerformanceWarning: DataFrame is highly fragmented.  This is usually the result of calling `frame.insert` many times, which has poor performance.  Consider joining all columns at once using pd.concat(axis=1) instead. To get a de-fragmented frame, use `newframe = frame.copy()`\n",
            "  results_df.insert(len(results_df.columns),description, y_pred)\n"
          ]
        },
        {
          "output_type": "stream",
          "name": "stdout",
          "text": [
            "basic Support Vector Machine-R, glove-twitter-25,\tAccuracy=0.90,\tC0: Pr=0.90, Re=1.00, F1=0.94,\tC1: Pr=0.00, Re=0.00, F1=0.00\n",
            "basic Support Vector Machine-S, glove-twitter-25,\tAccuracy=0.73,\tC0: Pr=0.90, Re=0.79, F1=0.84,\tC1: Pr=0.13, Re=0.26, F1=0.17\n"
          ]
        },
        {
          "output_type": "stream",
          "name": "stderr",
          "text": [
            "C:\\Users\\mmr\\AppData\\Local\\Temp\\ipykernel_18236\\3213305879.py:152: PerformanceWarning: DataFrame is highly fragmented.  This is usually the result of calling `frame.insert` many times, which has poor performance.  Consider joining all columns at once using pd.concat(axis=1) instead. To get a de-fragmented frame, use `newframe = frame.copy()`\n",
            "  results_df.insert(len(results_df.columns),description, y_pred)\n",
            "c:\\python\\python38\\lib\\site-packages\\sklearn\\metrics\\_classification.py:1471: UndefinedMetricWarning: Precision is ill-defined and being set to 0.0 due to no predicted samples. Use `zero_division` parameter to control this behavior.\n",
            "  _warn_prf(average, modifier, msg_start, len(result))\n",
            "C:\\Users\\mmr\\AppData\\Local\\Temp\\ipykernel_18236\\3213305879.py:152: PerformanceWarning: DataFrame is highly fragmented.  This is usually the result of calling `frame.insert` many times, which has poor performance.  Consider joining all columns at once using pd.concat(axis=1) instead. To get a de-fragmented frame, use `newframe = frame.copy()`\n",
            "  results_df.insert(len(results_df.columns),description, y_pred)\n"
          ]
        },
        {
          "output_type": "stream",
          "name": "stdout",
          "text": [
            "basic Support Vector Machine-WL, glove-twitter-25,\tAccuracy=0.10,\tC0: Pr=0.00, Re=0.00, F1=0.00,\tC1: Pr=0.10, Re=1.00, F1=0.19\n",
            "basic Support Vector Machine-WR, glove-twitter-25,\tAccuracy=0.20,\tC0: Pr=1.00, Re=0.11, F1=0.20,\tC1: Pr=0.12, Re=1.00, F1=0.21\n"
          ]
        },
        {
          "output_type": "stream",
          "name": "stderr",
          "text": [
            "C:\\Users\\mmr\\AppData\\Local\\Temp\\ipykernel_18236\\3213305879.py:152: PerformanceWarning: DataFrame is highly fragmented.  This is usually the result of calling `frame.insert` many times, which has poor performance.  Consider joining all columns at once using pd.concat(axis=1) instead. To get a de-fragmented frame, use `newframe = frame.copy()`\n",
            "  results_df.insert(len(results_df.columns),description, y_pred)\n"
          ]
        },
        {
          "output_type": "stream",
          "name": "stdout",
          "text": [
            "basic Support Vector Machine-WS, glove-twitter-25,\tAccuracy=0.34,\tC0: Pr=0.94, Re=0.28, F1=0.44,\tC1: Pr=0.12, Re=0.84, F1=0.21\n"
          ]
        },
        {
          "output_type": "stream",
          "name": "stderr",
          "text": [
            "C:\\Users\\mmr\\AppData\\Local\\Temp\\ipykernel_18236\\3213305879.py:152: PerformanceWarning: DataFrame is highly fragmented.  This is usually the result of calling `frame.insert` many times, which has poor performance.  Consider joining all columns at once using pd.concat(axis=1) instead. To get a de-fragmented frame, use `newframe = frame.copy()`\n",
            "  results_df.insert(len(results_df.columns),description, y_pred)\n"
          ]
        },
        {
          "output_type": "stream",
          "name": "stdout",
          "text": [
            "basic Decision Tree classifier, glove-twitter-25,\tAccuracy=0.77,\tC0: Pr=0.93, Re=0.80, F1=0.86,\tC1: Pr=0.22, Re=0.47, F1=0.30\n",
            "glove-twitter-50\n"
          ]
        },
        {
          "output_type": "stream",
          "name": "stderr",
          "text": [
            "C:\\Users\\mmr\\AppData\\Local\\Temp\\ipykernel_18236\\3213305879.py:152: PerformanceWarning: DataFrame is highly fragmented.  This is usually the result of calling `frame.insert` many times, which has poor performance.  Consider joining all columns at once using pd.concat(axis=1) instead. To get a de-fragmented frame, use `newframe = frame.copy()`\n",
            "  results_df.insert(len(results_df.columns),description, y_pred)\n"
          ]
        },
        {
          "output_type": "stream",
          "name": "stdout",
          "text": [
            "basic K-Nearest Neighbors, glove-twitter-50,\tAccuracy=0.85,\tC0: Pr=0.93, Re=0.91, F1=0.92,\tC1: Pr=0.33, Re=0.39, F1=0.36\n",
            "basic Linear Discrimination Analysis, glove-twitter-50,\tAccuracy=0.88,\tC0: Pr=0.92, Re=0.95, F1=0.93,\tC1: Pr=0.37, Re=0.26, F1=0.31\n"
          ]
        },
        {
          "output_type": "stream",
          "name": "stderr",
          "text": [
            "C:\\Users\\mmr\\AppData\\Local\\Temp\\ipykernel_18236\\3213305879.py:152: PerformanceWarning: DataFrame is highly fragmented.  This is usually the result of calling `frame.insert` many times, which has poor performance.  Consider joining all columns at once using pd.concat(axis=1) instead. To get a de-fragmented frame, use `newframe = frame.copy()`\n",
            "  results_df.insert(len(results_df.columns),description, y_pred)\n",
            "C:\\Users\\mmr\\AppData\\Local\\Temp\\ipykernel_18236\\3213305879.py:152: PerformanceWarning: DataFrame is highly fragmented.  This is usually the result of calling `frame.insert` many times, which has poor performance.  Consider joining all columns at once using pd.concat(axis=1) instead. To get a de-fragmented frame, use `newframe = frame.copy()`\n",
            "  results_df.insert(len(results_df.columns),description, y_pred)\n",
            "c:\\python\\python38\\lib\\site-packages\\sklearn\\linear_model\\_logistic.py:460: ConvergenceWarning: lbfgs failed to converge (status=1):\n",
            "STOP: TOTAL NO. of ITERATIONS REACHED LIMIT.\n",
            "\n",
            "Increase the number of iterations (max_iter) or scale the data as shown in:\n",
            "    https://scikit-learn.org/stable/modules/preprocessing.html\n",
            "Please also refer to the documentation for alternative solver options:\n",
            "    https://scikit-learn.org/stable/modules/linear_model.html#logistic-regression\n",
            "  n_iter_i = _check_optimize_result(\n"
          ]
        },
        {
          "output_type": "stream",
          "name": "stdout",
          "text": [
            "basic Logistic Regression, glove-twitter-50,\tAccuracy=0.88,\tC0: Pr=0.92, Re=0.95, F1=0.93,\tC1: Pr=0.39, Re=0.28, F1=0.32\n"
          ]
        },
        {
          "output_type": "stream",
          "name": "stderr",
          "text": [
            "C:\\Users\\mmr\\AppData\\Local\\Temp\\ipykernel_18236\\3213305879.py:152: PerformanceWarning: DataFrame is highly fragmented.  This is usually the result of calling `frame.insert` many times, which has poor performance.  Consider joining all columns at once using pd.concat(axis=1) instead. To get a de-fragmented frame, use `newframe = frame.copy()`\n",
            "  results_df.insert(len(results_df.columns),description, y_pred)\n"
          ]
        },
        {
          "output_type": "stream",
          "name": "stdout",
          "text": [
            "basic Support Vector Machine-L, glove-twitter-50,\tAccuracy=0.90,\tC0: Pr=0.90, Re=1.00, F1=0.94,\tC1: Pr=0.50, Re=0.01, F1=0.02\n"
          ]
        },
        {
          "output_type": "stream",
          "name": "stderr",
          "text": [
            "C:\\Users\\mmr\\AppData\\Local\\Temp\\ipykernel_18236\\3213305879.py:152: PerformanceWarning: DataFrame is highly fragmented.  This is usually the result of calling `frame.insert` many times, which has poor performance.  Consider joining all columns at once using pd.concat(axis=1) instead. To get a de-fragmented frame, use `newframe = frame.copy()`\n",
            "  results_df.insert(len(results_df.columns),description, y_pred)\n"
          ]
        },
        {
          "output_type": "stream",
          "name": "stdout",
          "text": [
            "basic Support Vector Machine-R, glove-twitter-50,\tAccuracy=0.90,\tC0: Pr=0.90, Re=1.00, F1=0.94,\tC1: Pr=0.50, Re=0.03, F1=0.06\n"
          ]
        },
        {
          "output_type": "stream",
          "name": "stderr",
          "text": [
            "C:\\Users\\mmr\\AppData\\Local\\Temp\\ipykernel_18236\\3213305879.py:152: PerformanceWarning: DataFrame is highly fragmented.  This is usually the result of calling `frame.insert` many times, which has poor performance.  Consider joining all columns at once using pd.concat(axis=1) instead. To get a de-fragmented frame, use `newframe = frame.copy()`\n",
            "  results_df.insert(len(results_df.columns),description, y_pred)\n"
          ]
        },
        {
          "output_type": "stream",
          "name": "stdout",
          "text": [
            "basic Support Vector Machine-S, glove-twitter-50,\tAccuracy=0.74,\tC0: Pr=0.90, Re=0.80, F1=0.85,\tC1: Pr=0.13, Re=0.25, F1=0.17\n"
          ]
        },
        {
          "output_type": "stream",
          "name": "stderr",
          "text": [
            "C:\\Users\\mmr\\AppData\\Local\\Temp\\ipykernel_18236\\3213305879.py:152: PerformanceWarning: DataFrame is highly fragmented.  This is usually the result of calling `frame.insert` many times, which has poor performance.  Consider joining all columns at once using pd.concat(axis=1) instead. To get a de-fragmented frame, use `newframe = frame.copy()`\n",
            "  results_df.insert(len(results_df.columns),description, y_pred)\n"
          ]
        },
        {
          "output_type": "stream",
          "name": "stdout",
          "text": [
            "basic Support Vector Machine-WL, glove-twitter-50,\tAccuracy=0.20,\tC0: Pr=1.00, Re=0.10, F1=0.19,\tC1: Pr=0.12, Re=1.00, F1=0.21\n"
          ]
        },
        {
          "output_type": "stream",
          "name": "stderr",
          "text": [
            "C:\\Users\\mmr\\AppData\\Local\\Temp\\ipykernel_18236\\3213305879.py:152: PerformanceWarning: DataFrame is highly fragmented.  This is usually the result of calling `frame.insert` many times, which has poor performance.  Consider joining all columns at once using pd.concat(axis=1) instead. To get a de-fragmented frame, use `newframe = frame.copy()`\n",
            "  results_df.insert(len(results_df.columns),description, y_pred)\n"
          ]
        },
        {
          "output_type": "stream",
          "name": "stdout",
          "text": [
            "basic Support Vector Machine-WR, glove-twitter-50,\tAccuracy=0.29,\tC0: Pr=1.00, Re=0.21, F1=0.35,\tC1: Pr=0.13, Re=1.00, F1=0.23\n"
          ]
        },
        {
          "output_type": "stream",
          "name": "stderr",
          "text": [
            "C:\\Users\\mmr\\AppData\\Local\\Temp\\ipykernel_18236\\3213305879.py:152: PerformanceWarning: DataFrame is highly fragmented.  This is usually the result of calling `frame.insert` many times, which has poor performance.  Consider joining all columns at once using pd.concat(axis=1) instead. To get a de-fragmented frame, use `newframe = frame.copy()`\n",
            "  results_df.insert(len(results_df.columns),description, y_pred)\n"
          ]
        },
        {
          "output_type": "stream",
          "name": "stdout",
          "text": [
            "basic Support Vector Machine-WS, glove-twitter-50,\tAccuracy=0.37,\tC0: Pr=0.95, Re=0.31, F1=0.47,\tC1: Pr=0.13, Re=0.86, F1=0.22\n"
          ]
        },
        {
          "output_type": "stream",
          "name": "stderr",
          "text": [
            "C:\\Users\\mmr\\AppData\\Local\\Temp\\ipykernel_18236\\3213305879.py:152: PerformanceWarning: DataFrame is highly fragmented.  This is usually the result of calling `frame.insert` many times, which has poor performance.  Consider joining all columns at once using pd.concat(axis=1) instead. To get a de-fragmented frame, use `newframe = frame.copy()`\n",
            "  results_df.insert(len(results_df.columns),description, y_pred)\n"
          ]
        },
        {
          "output_type": "stream",
          "name": "stdout",
          "text": [
            "basic Decision Tree classifier, glove-twitter-50,\tAccuracy=0.74,\tC0: Pr=0.93, Re=0.77, F1=0.84,\tC1: Pr=0.21, Re=0.51, F1=0.29\n",
            "glove-twitter-100\n"
          ]
        },
        {
          "output_type": "stream",
          "name": "stderr",
          "text": [
            "C:\\Users\\mmr\\AppData\\Local\\Temp\\ipykernel_18236\\3213305879.py:152: PerformanceWarning: DataFrame is highly fragmented.  This is usually the result of calling `frame.insert` many times, which has poor performance.  Consider joining all columns at once using pd.concat(axis=1) instead. To get a de-fragmented frame, use `newframe = frame.copy()`\n",
            "  results_df.insert(len(results_df.columns),description, y_pred)\n"
          ]
        },
        {
          "output_type": "stream",
          "name": "stdout",
          "text": [
            "basic K-Nearest Neighbors, glove-twitter-100,\tAccuracy=0.85,\tC0: Pr=0.92, Re=0.91, F1=0.92,\tC1: Pr=0.31, Re=0.34, F1=0.32\n",
            "basic Linear Discrimination Analysis, glove-twitter-100,\tAccuracy=0.89,\tC0: Pr=0.93, Re=0.95, F1=0.94,\tC1: Pr=0.46, Re=0.36, F1=0.40\n"
          ]
        },
        {
          "output_type": "stream",
          "name": "stderr",
          "text": [
            "C:\\Users\\mmr\\AppData\\Local\\Temp\\ipykernel_18236\\3213305879.py:152: PerformanceWarning: DataFrame is highly fragmented.  This is usually the result of calling `frame.insert` many times, which has poor performance.  Consider joining all columns at once using pd.concat(axis=1) instead. To get a de-fragmented frame, use `newframe = frame.copy()`\n",
            "  results_df.insert(len(results_df.columns),description, y_pred)\n",
            "C:\\Users\\mmr\\AppData\\Local\\Temp\\ipykernel_18236\\3213305879.py:152: PerformanceWarning: DataFrame is highly fragmented.  This is usually the result of calling `frame.insert` many times, which has poor performance.  Consider joining all columns at once using pd.concat(axis=1) instead. To get a de-fragmented frame, use `newframe = frame.copy()`\n",
            "  results_df.insert(len(results_df.columns),description, y_pred)\n",
            "c:\\python\\python38\\lib\\site-packages\\sklearn\\linear_model\\_logistic.py:460: ConvergenceWarning: lbfgs failed to converge (status=1):\n",
            "STOP: TOTAL NO. of ITERATIONS REACHED LIMIT.\n",
            "\n",
            "Increase the number of iterations (max_iter) or scale the data as shown in:\n",
            "    https://scikit-learn.org/stable/modules/preprocessing.html\n",
            "Please also refer to the documentation for alternative solver options:\n",
            "    https://scikit-learn.org/stable/modules/linear_model.html#logistic-regression\n",
            "  n_iter_i = _check_optimize_result(\n",
            "C:\\Users\\mmr\\AppData\\Local\\Temp\\ipykernel_18236\\3213305879.py:152: PerformanceWarning: DataFrame is highly fragmented.  This is usually the result of calling `frame.insert` many times, which has poor performance.  Consider joining all columns at once using pd.concat(axis=1) instead. To get a de-fragmented frame, use `newframe = frame.copy()`\n",
            "  results_df.insert(len(results_df.columns),description, y_pred)\n"
          ]
        },
        {
          "output_type": "stream",
          "name": "stdout",
          "text": [
            "basic Logistic Regression, glove-twitter-100,\tAccuracy=0.89,\tC0: Pr=0.93, Re=0.95, F1=0.94,\tC1: Pr=0.45, Re=0.37, F1=0.41\n",
            "basic Support Vector Machine-L, glove-twitter-100,\tAccuracy=0.89,\tC0: Pr=0.92, Re=0.97, F1=0.94,\tC1: Pr=0.46, Re=0.24, F1=0.32\n"
          ]
        },
        {
          "output_type": "stream",
          "name": "stderr",
          "text": [
            "C:\\Users\\mmr\\AppData\\Local\\Temp\\ipykernel_18236\\3213305879.py:152: PerformanceWarning: DataFrame is highly fragmented.  This is usually the result of calling `frame.insert` many times, which has poor performance.  Consider joining all columns at once using pd.concat(axis=1) instead. To get a de-fragmented frame, use `newframe = frame.copy()`\n",
            "  results_df.insert(len(results_df.columns),description, y_pred)\n"
          ]
        },
        {
          "output_type": "stream",
          "name": "stdout",
          "text": [
            "basic Support Vector Machine-R, glove-twitter-100,\tAccuracy=0.90,\tC0: Pr=0.92, Re=0.97, F1=0.94,\tC1: Pr=0.52, Re=0.25, F1=0.34\n"
          ]
        },
        {
          "output_type": "stream",
          "name": "stderr",
          "text": [
            "C:\\Users\\mmr\\AppData\\Local\\Temp\\ipykernel_18236\\3213305879.py:152: PerformanceWarning: DataFrame is highly fragmented.  This is usually the result of calling `frame.insert` many times, which has poor performance.  Consider joining all columns at once using pd.concat(axis=1) instead. To get a de-fragmented frame, use `newframe = frame.copy()`\n",
            "  results_df.insert(len(results_df.columns),description, y_pred)\n"
          ]
        },
        {
          "output_type": "stream",
          "name": "stdout",
          "text": [
            "basic Support Vector Machine-S, glove-twitter-100,\tAccuracy=0.75,\tC0: Pr=0.90, Re=0.80, F1=0.85,\tC1: Pr=0.14, Re=0.28, F1=0.19\n"
          ]
        },
        {
          "output_type": "stream",
          "name": "stderr",
          "text": [
            "C:\\Users\\mmr\\AppData\\Local\\Temp\\ipykernel_18236\\3213305879.py:152: PerformanceWarning: DataFrame is highly fragmented.  This is usually the result of calling `frame.insert` many times, which has poor performance.  Consider joining all columns at once using pd.concat(axis=1) instead. To get a de-fragmented frame, use `newframe = frame.copy()`\n",
            "  results_df.insert(len(results_df.columns),description, y_pred)\n"
          ]
        },
        {
          "output_type": "stream",
          "name": "stdout",
          "text": [
            "basic Support Vector Machine-WL, glove-twitter-100,\tAccuracy=0.41,\tC0: Pr=0.99, Re=0.35, F1=0.52,\tC1: Pr=0.15, Re=0.97, F1=0.26\n"
          ]
        },
        {
          "output_type": "stream",
          "name": "stderr",
          "text": [
            "C:\\Users\\mmr\\AppData\\Local\\Temp\\ipykernel_18236\\3213305879.py:152: PerformanceWarning: DataFrame is highly fragmented.  This is usually the result of calling `frame.insert` many times, which has poor performance.  Consider joining all columns at once using pd.concat(axis=1) instead. To get a de-fragmented frame, use `newframe = frame.copy()`\n",
            "  results_df.insert(len(results_df.columns),description, y_pred)\n"
          ]
        },
        {
          "output_type": "stream",
          "name": "stdout",
          "text": [
            "basic Support Vector Machine-WR, glove-twitter-100,\tAccuracy=0.44,\tC0: Pr=1.00, Re=0.38, F1=0.55,\tC1: Pr=0.16, Re=0.99, F1=0.27\n"
          ]
        },
        {
          "output_type": "stream",
          "name": "stderr",
          "text": [
            "C:\\Users\\mmr\\AppData\\Local\\Temp\\ipykernel_18236\\3213305879.py:152: PerformanceWarning: DataFrame is highly fragmented.  This is usually the result of calling `frame.insert` many times, which has poor performance.  Consider joining all columns at once using pd.concat(axis=1) instead. To get a de-fragmented frame, use `newframe = frame.copy()`\n",
            "  results_df.insert(len(results_df.columns),description, y_pred)\n"
          ]
        },
        {
          "output_type": "stream",
          "name": "stdout",
          "text": [
            "basic Support Vector Machine-WS, glove-twitter-100,\tAccuracy=0.37,\tC0: Pr=0.95, Re=0.32, F1=0.47,\tC1: Pr=0.13, Re=0.86, F1=0.22\n"
          ]
        },
        {
          "output_type": "stream",
          "name": "stderr",
          "text": [
            "C:\\Users\\mmr\\AppData\\Local\\Temp\\ipykernel_18236\\3213305879.py:152: PerformanceWarning: DataFrame is highly fragmented.  This is usually the result of calling `frame.insert` many times, which has poor performance.  Consider joining all columns at once using pd.concat(axis=1) instead. To get a de-fragmented frame, use `newframe = frame.copy()`\n",
            "  results_df.insert(len(results_df.columns),description, y_pred)\n"
          ]
        },
        {
          "output_type": "stream",
          "name": "stdout",
          "text": [
            "basic Decision Tree classifier, glove-twitter-100,\tAccuracy=0.76,\tC0: Pr=0.93, Re=0.79, F1=0.85,\tC1: Pr=0.22, Re=0.51, F1=0.31\n",
            "glove-twitter-200\n"
          ]
        },
        {
          "output_type": "stream",
          "name": "stderr",
          "text": [
            "C:\\Users\\mmr\\AppData\\Local\\Temp\\ipykernel_18236\\3213305879.py:152: PerformanceWarning: DataFrame is highly fragmented.  This is usually the result of calling `frame.insert` many times, which has poor performance.  Consider joining all columns at once using pd.concat(axis=1) instead. To get a de-fragmented frame, use `newframe = frame.copy()`\n",
            "  results_df.insert(len(results_df.columns),description, y_pred)\n"
          ]
        },
        {
          "output_type": "stream",
          "name": "stdout",
          "text": [
            "basic K-Nearest Neighbors, glove-twitter-200,\tAccuracy=0.86,\tC0: Pr=0.93, Re=0.91, F1=0.92,\tC1: Pr=0.36, Re=0.44, F1=0.39\n"
          ]
        },
        {
          "output_type": "stream",
          "name": "stderr",
          "text": [
            "C:\\Users\\mmr\\AppData\\Local\\Temp\\ipykernel_18236\\3213305879.py:152: PerformanceWarning: DataFrame is highly fragmented.  This is usually the result of calling `frame.insert` many times, which has poor performance.  Consider joining all columns at once using pd.concat(axis=1) instead. To get a de-fragmented frame, use `newframe = frame.copy()`\n",
            "  results_df.insert(len(results_df.columns),description, y_pred)\n"
          ]
        },
        {
          "output_type": "stream",
          "name": "stdout",
          "text": [
            "basic Linear Discrimination Analysis, glove-twitter-200,\tAccuracy=0.88,\tC0: Pr=0.93, Re=0.95, F1=0.94,\tC1: Pr=0.42, Re=0.34, F1=0.38\n"
          ]
        },
        {
          "output_type": "stream",
          "name": "stderr",
          "text": [
            "C:\\Users\\mmr\\AppData\\Local\\Temp\\ipykernel_18236\\3213305879.py:152: PerformanceWarning: DataFrame is highly fragmented.  This is usually the result of calling `frame.insert` many times, which has poor performance.  Consider joining all columns at once using pd.concat(axis=1) instead. To get a de-fragmented frame, use `newframe = frame.copy()`\n",
            "  results_df.insert(len(results_df.columns),description, y_pred)\n",
            "c:\\python\\python38\\lib\\site-packages\\sklearn\\linear_model\\_logistic.py:460: ConvergenceWarning: lbfgs failed to converge (status=1):\n",
            "STOP: TOTAL NO. of ITERATIONS REACHED LIMIT.\n",
            "\n",
            "Increase the number of iterations (max_iter) or scale the data as shown in:\n",
            "    https://scikit-learn.org/stable/modules/preprocessing.html\n",
            "Please also refer to the documentation for alternative solver options:\n",
            "    https://scikit-learn.org/stable/modules/linear_model.html#logistic-regression\n",
            "  n_iter_i = _check_optimize_result(\n",
            "C:\\Users\\mmr\\AppData\\Local\\Temp\\ipykernel_18236\\3213305879.py:152: PerformanceWarning: DataFrame is highly fragmented.  This is usually the result of calling `frame.insert` many times, which has poor performance.  Consider joining all columns at once using pd.concat(axis=1) instead. To get a de-fragmented frame, use `newframe = frame.copy()`\n",
            "  results_df.insert(len(results_df.columns),description, y_pred)\n"
          ]
        },
        {
          "output_type": "stream",
          "name": "stdout",
          "text": [
            "basic Logistic Regression, glove-twitter-200,\tAccuracy=0.88,\tC0: Pr=0.93, Re=0.94, F1=0.94,\tC1: Pr=0.43, Re=0.37, F1=0.40\n",
            "basic Support Vector Machine-L, glove-twitter-200,\tAccuracy=0.88,\tC0: Pr=0.93, Re=0.94, F1=0.93,\tC1: Pr=0.41, Re=0.36, F1=0.38\n"
          ]
        },
        {
          "output_type": "stream",
          "name": "stderr",
          "text": [
            "C:\\Users\\mmr\\AppData\\Local\\Temp\\ipykernel_18236\\3213305879.py:152: PerformanceWarning: DataFrame is highly fragmented.  This is usually the result of calling `frame.insert` many times, which has poor performance.  Consider joining all columns at once using pd.concat(axis=1) instead. To get a de-fragmented frame, use `newframe = frame.copy()`\n",
            "  results_df.insert(len(results_df.columns),description, y_pred)\n"
          ]
        },
        {
          "output_type": "stream",
          "name": "stdout",
          "text": [
            "basic Support Vector Machine-R, glove-twitter-200,\tAccuracy=0.90,\tC0: Pr=0.92, Re=0.97, F1=0.95,\tC1: Pr=0.54, Re=0.31, F1=0.39\n"
          ]
        },
        {
          "output_type": "stream",
          "name": "stderr",
          "text": [
            "C:\\Users\\mmr\\AppData\\Local\\Temp\\ipykernel_18236\\3213305879.py:152: PerformanceWarning: DataFrame is highly fragmented.  This is usually the result of calling `frame.insert` many times, which has poor performance.  Consider joining all columns at once using pd.concat(axis=1) instead. To get a de-fragmented frame, use `newframe = frame.copy()`\n",
            "  results_df.insert(len(results_df.columns),description, y_pred)\n"
          ]
        },
        {
          "output_type": "stream",
          "name": "stdout",
          "text": [
            "basic Support Vector Machine-S, glove-twitter-200,\tAccuracy=0.75,\tC0: Pr=0.90, Re=0.80, F1=0.85,\tC1: Pr=0.14, Re=0.28, F1=0.19\n"
          ]
        },
        {
          "output_type": "stream",
          "name": "stderr",
          "text": [
            "C:\\Users\\mmr\\AppData\\Local\\Temp\\ipykernel_18236\\3213305879.py:152: PerformanceWarning: DataFrame is highly fragmented.  This is usually the result of calling `frame.insert` many times, which has poor performance.  Consider joining all columns at once using pd.concat(axis=1) instead. To get a de-fragmented frame, use `newframe = frame.copy()`\n",
            "  results_df.insert(len(results_df.columns),description, y_pred)\n"
          ]
        },
        {
          "output_type": "stream",
          "name": "stdout",
          "text": [
            "basic Support Vector Machine-WL, glove-twitter-200,\tAccuracy=0.52,\tC0: Pr=0.99, Re=0.47, F1=0.64,\tC1: Pr=0.17, Re=0.94, F1=0.29\n"
          ]
        },
        {
          "output_type": "stream",
          "name": "stderr",
          "text": [
            "C:\\Users\\mmr\\AppData\\Local\\Temp\\ipykernel_18236\\3213305879.py:152: PerformanceWarning: DataFrame is highly fragmented.  This is usually the result of calling `frame.insert` many times, which has poor performance.  Consider joining all columns at once using pd.concat(axis=1) instead. To get a de-fragmented frame, use `newframe = frame.copy()`\n",
            "  results_df.insert(len(results_df.columns),description, y_pred)\n"
          ]
        },
        {
          "output_type": "stream",
          "name": "stdout",
          "text": [
            "basic Support Vector Machine-WR, glove-twitter-200,\tAccuracy=0.52,\tC0: Pr=0.99, Re=0.47, F1=0.64,\tC1: Pr=0.18, Re=0.97, F1=0.30\n"
          ]
        },
        {
          "output_type": "stream",
          "name": "stderr",
          "text": [
            "C:\\Users\\mmr\\AppData\\Local\\Temp\\ipykernel_18236\\3213305879.py:152: PerformanceWarning: DataFrame is highly fragmented.  This is usually the result of calling `frame.insert` many times, which has poor performance.  Consider joining all columns at once using pd.concat(axis=1) instead. To get a de-fragmented frame, use `newframe = frame.copy()`\n",
            "  results_df.insert(len(results_df.columns),description, y_pred)\n"
          ]
        },
        {
          "output_type": "stream",
          "name": "stdout",
          "text": [
            "basic Support Vector Machine-WS, glove-twitter-200,\tAccuracy=0.40,\tC0: Pr=0.96, Re=0.35, F1=0.51,\tC1: Pr=0.13, Re=0.87, F1=0.23\n"
          ]
        },
        {
          "output_type": "stream",
          "name": "stderr",
          "text": [
            "C:\\Users\\mmr\\AppData\\Local\\Temp\\ipykernel_18236\\3213305879.py:152: PerformanceWarning: DataFrame is highly fragmented.  This is usually the result of calling `frame.insert` many times, which has poor performance.  Consider joining all columns at once using pd.concat(axis=1) instead. To get a de-fragmented frame, use `newframe = frame.copy()`\n",
            "  results_df.insert(len(results_df.columns),description, y_pred)\n"
          ]
        },
        {
          "output_type": "stream",
          "name": "stdout",
          "text": [
            "basic Decision Tree classifier, glove-twitter-200,\tAccuracy=0.76,\tC0: Pr=0.93, Re=0.79, F1=0.85,\tC1: Pr=0.21, Re=0.48, F1=0.29\n",
            "__testing_word2vec-matrix-synopsis\n"
          ]
        },
        {
          "output_type": "stream",
          "name": "stderr",
          "text": [
            "C:\\Users\\mmr\\AppData\\Local\\Temp\\ipykernel_18236\\3213305879.py:152: PerformanceWarning: DataFrame is highly fragmented.  This is usually the result of calling `frame.insert` many times, which has poor performance.  Consider joining all columns at once using pd.concat(axis=1) instead. To get a de-fragmented frame, use `newframe = frame.copy()`\n",
            "  results_df.insert(len(results_df.columns),description, y_pred)\n"
          ]
        },
        {
          "output_type": "stream",
          "name": "stdout",
          "text": [
            "basic K-Nearest Neighbors, __testing_word2vec-matrix-synopsis,\tAccuracy=0.90,\tC0: Pr=0.90, Re=1.00, F1=0.94,\tC1: Pr=0.00, Re=0.00, F1=0.00\n",
            "Cannot eval word2vec __testing_word2vec-matrix-synopsis. Description Internal work array size computation failed: -10\n"
          ]
        },
        {
          "output_type": "stream",
          "name": "stderr",
          "text": [
            "c:\\python\\python38\\lib\\site-packages\\sklearn\\metrics\\_classification.py:1471: UndefinedMetricWarning: Precision is ill-defined and being set to 0.0 due to no predicted samples. Use `zero_division` parameter to control this behavior.\n",
            "  _warn_prf(average, modifier, msg_start, len(result))\n",
            "C:\\Users\\mmr\\AppData\\Local\\Temp\\ipykernel_18236\\3213305879.py:152: PerformanceWarning: DataFrame is highly fragmented.  This is usually the result of calling `frame.insert` many times, which has poor performance.  Consider joining all columns at once using pd.concat(axis=1) instead. To get a de-fragmented frame, use `newframe = frame.copy()`\n",
            "  results_df.insert(len(results_df.columns),description, y_pred)\n"
          ]
        }
      ]
    },
    {
      "cell_type": "markdown",
      "source": [
        "**Longest Common Subsequence**"
      ],
      "metadata": {
        "id": "3fF6EUfhxT42"
      }
    },
    {
      "cell_type": "code",
      "source": [
        "def longest_common_subsequence(str1, str2):\n",
        "    words1 = str1.split()\n",
        "    words2 = str2.split()\n",
        "\n",
        "    m = len(words1)\n",
        "    n = len(words2)\n",
        "\n",
        "    # Initializing the dp table with zeros\n",
        "    dp = [[0] * (n + 1) for _ in range(m + 1)]\n",
        "\n",
        "    # Building the dp table\n",
        "    for i in range(1, m + 1):\n",
        "        for j in range(1, n + 1):\n",
        "            if words1[i - 1] == words2[j - 1]:\n",
        "                dp[i][j] = dp[i - 1][j - 1] + 1\n",
        "            else:\n",
        "                dp[i][j] = max(dp[i - 1][j], dp[i][j - 1])\n",
        "\n",
        "    # Backtracking to find the longest common subsequence\n",
        "    lcs_length = dp[m][n]\n",
        "    lcs = []\n",
        "    i = m\n",
        "    j = n\n",
        "    while i > 0 and j > 0:\n",
        "        if words1[i - 1] == words2[j - 1]:\n",
        "            lcs.append ( words1[i - 1])\n",
        "            i -= 1\n",
        "            j -= 1\n",
        "            lcs_length -= 1\n",
        "        elif dp[i - 1][j] > dp[i][j - 1]:\n",
        "            i -= 1\n",
        "        else:\n",
        "            j -= 1\n",
        "\n",
        "    lcs.reverse()\n",
        "    return lcs , (len(lcs))/ (0.0001+m) # 0.0001 is denom is there to prevent div by 0\n",
        "# Example usage:\n",
        "str1        = \"roses are red. violets are blue\"\n",
        "str2        = \"the garden is full of roses and violets that are blue \"\n",
        "lcs12 , r12 = longest_common_subsequence(str1, str2)\n",
        "print(f\"Longest Common Subsequence:{r12}: {lcs12} \")\n"
      ],
      "metadata": {
        "id": "cKfUYz7WxTPg"
      },
      "execution_count": null,
      "outputs": []
    },
    {
      "cell_type": "code",
      "source": [
        "import sys\n",
        "import re\n",
        "from nltk.corpus import stopwords\n",
        "from nltk.tokenize import word_tokenize\n",
        "nltk.download('stopwords')\n",
        "stop_words = set(stopwords.words('english'))\n",
        "\n",
        "def remove_stopwords_list(tokens):\n",
        "  filtered_tokens = [w for w in tokens if not w.lower() in stop_words]\n",
        "  return filtered_tokens\n",
        "\n",
        "def remove_stopwords_str(str):\n",
        "  str = re.sub(r'[^A-Za-z0-9]+', ' ', str)\n",
        "  str = re.sub(r'\\W+', ' ', str)\n",
        "  str = re.sub(r'\\s+', ' ', str)\n",
        "\n",
        "  tokens = str.split()\n",
        "  filtered_tokens = [w for w in tokens if not w.lower() in stop_words]\n",
        "  return ' '.join(filtered_tokens)\n",
        "\n",
        "#--------------------\n",
        "#\n",
        "\n",
        "do_lcs = True # switch this flag if you want to run lcs\n",
        "\n",
        "if do_lcs:\n",
        "  train = train_df['sentence'].tolist(); train  = [remove_stopwords_str(s) for s in train ]\n",
        "  test  = test_df['sentence'].tolist();  test   = [remove_stopwords_str(s) for s in test ]\n",
        "  valid = valid_df['sentence'].tolist(); valid  = [remove_stopwords_str(s) for s in valid ]\n",
        "\n",
        "  X = train + valid ;   y = y_train_val\n",
        "  num_train = len(X);   num_test  = len(test)\n",
        "\n",
        "  with open('train_test_lcs03.txt', 'w') as f:\n",
        "    for m in range(num_train):\n",
        "      if y[m] == 1:\n",
        "        for n in range(num_test):\n",
        "          temp, r = longest_common_subsequence (X[m], test[n])\n",
        "          if r >= 0.01:\n",
        "            print(f\"{m}\\t{n}\\t{y[m]}\\t{y_test[n]}\\t{r:0.02f}\\t{len(temp)}\\t{temp}\",file=f)\n"
      ],
      "metadata": {
        "id": "LzLh7vJ0xZpZ"
      },
      "execution_count": null,
      "outputs": []
    },
    {
      "cell_type": "code",
      "source": [
        "import numpy as np\n",
        "from nltk.corpus import wordnet as wn\n",
        "\n",
        "def wordnet_path_similarity(word1, word2):\n",
        "    synsets1 = wn.synsets(word1)\n",
        "    synsets2 = wn.synsets(word2)\n",
        "    if not synsets1 or not synsets2:\n",
        "        return 0\n",
        "    else:\n",
        "        max_similarity = 0\n",
        "        for synset1 in synsets1:\n",
        "            for synset2 in synsets2:\n",
        "                path_similarity = synset1.path_similarity(synset2)\n",
        "                if path_similarity is not None and path_similarity > max_similarity:\n",
        "                    max_similarity = path_similarity\n",
        "        return max_similarity\n",
        "\n",
        "def dtw_distance(s1, s2, similarity_function=wordnet_path_similarity):\n",
        "    len_s1, len_s2 = len(s1), len(s2)\n",
        "    dtw_matrix = np.zeros((len_s1 + 1, len_s2 + 1))\n",
        "\n",
        "    # Initialize the DTW matrix with infinity\n",
        "    for i in range(len_s1 + 1):\n",
        "        for j in range(len_s2 + 1):\n",
        "            dtw_matrix[i, j] = float('inf')\n",
        "\n",
        "    dtw_matrix[0, 0] = 0\n",
        "\n",
        "    # Calculate DTW matrix\n",
        "    for i in range(1, len_s1 + 1):\n",
        "        for j in range(1, len_s2 + 1):\n",
        "            cost = 1 - similarity_function(s1[i - 1], s2[j - 1])  # Using WordNet similarity as cost\n",
        "            dtw_matrix[i, j] = cost + min(dtw_matrix[i - 1, j], dtw_matrix[i, j - 1], dtw_matrix[i - 1, j - 1])\n",
        "\n",
        "    return dtw_matrix[len_s1, len_s2]\n",
        "\n",
        "def dtw_distance_str(s1, s2):\n",
        "  return dtw_distance(s1.split() , s2.split())\n",
        "\n",
        "# Example lists of strings\n",
        "list1 = ['cat', 'dog', 'fish']\n",
        "list2 = ['cat', 'fish', 'bird']\n",
        "\n",
        "# Calculate DTW similarity\n",
        "dtw_distance_score = dtw_distance(list1, list2)\n",
        "\n",
        "print(\"DTW Similarity:\", dtw_distance_score)\n"
      ],
      "metadata": {
        "id": "aAJ17NQjFayF"
      },
      "execution_count": null,
      "outputs": []
    },
    {
      "cell_type": "code",
      "source": [
        "#--------------------\n",
        "#\n",
        "\n",
        "do_dtw = True # switch this flag if you want to run lcs\n",
        "\n",
        "if do_dtw:\n",
        "  train = train_df['sentence'].tolist(); train  = [remove_stopwords_str(s) for s in train ]\n",
        "  test  = test_df['sentence'].tolist();  test   = [remove_stopwords_str(s) for s in test ]\n",
        "  valid = valid_df['sentence'].tolist(); valid  = [remove_stopwords_str(s) for s in valid ]\n",
        "\n",
        "  X = train + valid ;   y = y_train_val\n",
        "  num_train = len(X);   num_test  = len(test)\n",
        "\n",
        "  with open('train_test_dtw02.txt', 'w') as f2:\n",
        "    for m in range(num_train):\n",
        "      if y[m] == 1:\n",
        "        s1 = X[m].split() ; n1 = len(s1)\n",
        "        for n in range(num_test):\n",
        "          s2 = test[n].split() ; n2 = len(s2)\n",
        "          r = 1- (dtw_distance (s1, s2) /(n1+n2 + 0.00000001))\n",
        "          #print(f\"{m}\\t{n}\\t{y[m]}\\t{y_test[n]}\\t{r:0.02f}\")\n",
        "          print(f\"{m}\\t{n}\\t{y[m]}\\t{n1}\\t{n2}\\t{y_test[n]}\\t{r:0.02f}\",file=f2)\n"
      ],
      "metadata": {
        "id": "67boEFXX1xqF"
      },
      "execution_count": null,
      "outputs": []
    }
  ],
  "metadata": {
    "colab": {
      "provenance": [],
      "include_colab_link": true
    },
    "kernelspec": {
      "display_name": "Python 3",
      "name": "python3"
    },
    "language_info": {
      "name": "python"
    }
  },
  "nbformat": 4,
  "nbformat_minor": 0
}